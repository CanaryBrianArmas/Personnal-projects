{
 "cells": [
  {
   "cell_type": "markdown",
   "metadata": {},
   "source": [
    "# EDA sobre un Dataset de los personajes que aparecen en Harry Potter"
   ]
  },
  {
   "cell_type": "markdown",
   "metadata": {},
   "source": [
    "Este es un análisis para obtener información relevante sobre el dataset de los personajes de Harry Potter."
   ]
  },
  {
   "cell_type": "code",
   "execution_count": null,
   "metadata": {},
   "outputs": [],
   "source": [
    "import pandas as pd\n",
    "import numpy as np\n",
    "import matplotlib.pyplot as plt\n",
    "import seaborn as sns\n",
    "from scipy.stats import chi2_contingency\n",
    "import Functions_Visual as fv\n",
    "import Functions_Cleaning as fc"
   ]
  },
  {
   "cell_type": "code",
   "execution_count": 36,
   "metadata": {},
   "outputs": [],
   "source": [
    "# ESTABLECEMOS EL TEMA BASE DE LOS GRÁFICOS QUE SE VAN A REALIZAR\n",
    "sns.set_theme()"
   ]
  },
  {
   "cell_type": "code",
   "execution_count": 37,
   "metadata": {},
   "outputs": [],
   "source": [
    "# CARGAMOS EL DATASET\n",
    "df_orig = pd.read_csv('./data/Characters_Harry_Potter.csv', sep = \";\")"
   ]
  },
  {
   "cell_type": "code",
   "execution_count": 38,
   "metadata": {},
   "outputs": [
    {
     "name": "stdout",
     "output_type": "stream",
     "text": [
      "<class 'pandas.core.frame.DataFrame'>\n",
      "RangeIndex: 140 entries, 0 to 139\n",
      "Data columns (total 15 columns):\n",
      " #   Column        Non-Null Count  Dtype \n",
      "---  ------        --------------  ----- \n",
      " 0   Id            140 non-null    int64 \n",
      " 1   Name          140 non-null    object\n",
      " 2   Gender        139 non-null    object\n",
      " 3   Job           121 non-null    object\n",
      " 4   House         101 non-null    object\n",
      " 5   Wand          132 non-null    object\n",
      " 6   Patronus      123 non-null    object\n",
      " 7   Species       140 non-null    object\n",
      " 8   Blood status  123 non-null    object\n",
      " 9   Hair colour   123 non-null    object\n",
      " 10  Eye colour    86 non-null     object\n",
      " 11  Loyalty       89 non-null     object\n",
      " 12  Skills        113 non-null    object\n",
      " 13  Birth         127 non-null    object\n",
      " 14  Death         42 non-null     object\n",
      "dtypes: int64(1), object(14)\n",
      "memory usage: 16.5+ KB\n"
     ]
    },
    {
     "data": {
      "text/html": [
       "<div>\n",
       "<style scoped>\n",
       "    .dataframe tbody tr th:only-of-type {\n",
       "        vertical-align: middle;\n",
       "    }\n",
       "\n",
       "    .dataframe tbody tr th {\n",
       "        vertical-align: top;\n",
       "    }\n",
       "\n",
       "    .dataframe thead th {\n",
       "        text-align: right;\n",
       "    }\n",
       "</style>\n",
       "<table border=\"1\" class=\"dataframe\">\n",
       "  <thead>\n",
       "    <tr style=\"text-align: right;\">\n",
       "      <th></th>\n",
       "      <th>Id</th>\n",
       "    </tr>\n",
       "  </thead>\n",
       "  <tbody>\n",
       "    <tr>\n",
       "      <th>count</th>\n",
       "      <td>140.0000</td>\n",
       "    </tr>\n",
       "    <tr>\n",
       "      <th>mean</th>\n",
       "      <td>70.5000</td>\n",
       "    </tr>\n",
       "    <tr>\n",
       "      <th>std</th>\n",
       "      <td>40.5586</td>\n",
       "    </tr>\n",
       "    <tr>\n",
       "      <th>min</th>\n",
       "      <td>1.0000</td>\n",
       "    </tr>\n",
       "    <tr>\n",
       "      <th>25%</th>\n",
       "      <td>35.7500</td>\n",
       "    </tr>\n",
       "    <tr>\n",
       "      <th>50%</th>\n",
       "      <td>70.5000</td>\n",
       "    </tr>\n",
       "    <tr>\n",
       "      <th>75%</th>\n",
       "      <td>105.2500</td>\n",
       "    </tr>\n",
       "    <tr>\n",
       "      <th>max</th>\n",
       "      <td>140.0000</td>\n",
       "    </tr>\n",
       "  </tbody>\n",
       "</table>\n",
       "</div>"
      ],
      "text/plain": [
       "             Id\n",
       "count  140.0000\n",
       "mean    70.5000\n",
       "std     40.5586\n",
       "min      1.0000\n",
       "25%     35.7500\n",
       "50%     70.5000\n",
       "75%    105.2500\n",
       "max    140.0000"
      ]
     },
     "execution_count": 38,
     "metadata": {},
     "output_type": "execute_result"
    }
   ],
   "source": [
    "df_orig.info() # MOSTRAMOS ESTRUCTURA GENERAL DEL DATASET\n",
    "df_orig.describe() # PRESENTAMOS ESTADISTICAS DESCRIPTIVAS(DE MOMENTO SÓLO HAY UNA VARIABLE NUMÉRICA)"
   ]
  },
  {
   "cell_type": "code",
   "execution_count": 39,
   "metadata": {},
   "outputs": [
    {
     "name": "stdout",
     "output_type": "stream",
     "text": [
      "Valores faltantes por columna:\n",
      "Id               0\n",
      "Name             0\n",
      "Gender           1\n",
      "Job             19\n",
      "House           39\n",
      "Wand             8\n",
      "Patronus        17\n",
      "Species          0\n",
      "Blood status    17\n",
      "Hair colour     17\n",
      "Eye colour      54\n",
      "Loyalty         51\n",
      "Skills          27\n",
      "Birth           13\n",
      "Death           98\n",
      "dtype: int64 \n",
      "\n",
      "\n",
      "Valores únicos:\n",
      "Id              140\n",
      "Name            140\n",
      "Gender            2\n",
      "Job              65\n",
      "House             6\n",
      "Wand             29\n",
      "Patronus         19\n",
      "Species          10\n",
      "Blood status     15\n",
      "Hair colour      36\n",
      "Eye colour       25\n",
      "Loyalty          19\n",
      "Skills           94\n",
      "Birth           112\n",
      "Death            25\n",
      "dtype: int64\n"
     ]
    }
   ],
   "source": [
    "# MOSTRAMOS CUANTOS VALORES FALTANTES HAY EN CADA COLUMNA\n",
    "print(\"Valores faltantes por columna:\")\n",
    "print(df_orig.isnull().sum(), \"\\n\\n\")\n",
    "\n",
    "# MOSTRAMOS LA CANTIDAD DE VALORES ÚNICOS PARA DETECTAR POSIBLES INCOSISTENCIAS\n",
    "count_unique_values = df_orig.nunique()\n",
    "print(\"Valores únicos:\")\n",
    "print(count_unique_values)"
   ]
  },
  {
   "cell_type": "code",
   "execution_count": 40,
   "metadata": {},
   "outputs": [
    {
     "name": "stdout",
     "output_type": "stream",
     "text": [
      "Valores únicos:\n",
      "Id              140\n",
      "Name            140\n",
      "Gender            2\n",
      "Job              65\n",
      "House             6\n",
      "Wand             29\n",
      "Patronus         19\n",
      "Species          10\n",
      "Blood status     15\n",
      "Hair colour      36\n",
      "Eye colour       25\n",
      "Loyalty          19\n",
      "Skills           94\n",
      "Birth           112\n",
      "Death            25\n",
      "dtype: int64\n",
      "\n",
      "\n",
      " Cardinalidad:\n",
      "Id              100.000000\n",
      "Name            100.000000\n",
      "Gender            1.428571\n",
      "Job              46.428571\n",
      "House             4.285714\n",
      "Wand             20.714286\n",
      "Patronus         13.571429\n",
      "Species           7.142857\n",
      "Blood status     10.714286\n",
      "Hair colour      25.714286\n",
      "Eye colour       17.857143\n",
      "Loyalty          13.571429\n",
      "Skills           67.142857\n",
      "Birth            80.000000\n",
      "Death            17.857143\n",
      "dtype: float64\n"
     ]
    }
   ],
   "source": [
    "# MOSTRAMOS LA CANTIDAD DE VALORES ÚNICOS PARA DETECTAR POSIBLES INCOSISTENCIAS, Y LA CARDINALIDAD\n",
    "count_unique_values = df_orig.nunique()\n",
    "print(\"Valores únicos:\")\n",
    "print(count_unique_values)\n",
    "\n",
    "print(\"\\n\\n\", \"Cardinalidad:\")\n",
    "print(count_unique_values / len(df_orig) * 100)"
   ]
  },
  {
   "cell_type": "markdown",
   "metadata": {},
   "source": [
    "- Dada la alta cardinalidad en la columna skills y Birth, y la alta cantidad de nulos en la columna Death, he decidido eliminarlas. \n",
    "- Tampoco las considero relevantes para mi análisis. "
   ]
  },
  {
   "cell_type": "code",
   "execution_count": 41,
   "metadata": {},
   "outputs": [
    {
     "data": {
      "text/html": [
       "<div>\n",
       "<style scoped>\n",
       "    .dataframe tbody tr th:only-of-type {\n",
       "        vertical-align: middle;\n",
       "    }\n",
       "\n",
       "    .dataframe tbody tr th {\n",
       "        vertical-align: top;\n",
       "    }\n",
       "\n",
       "    .dataframe thead th {\n",
       "        text-align: right;\n",
       "    }\n",
       "</style>\n",
       "<table border=\"1\" class=\"dataframe\">\n",
       "  <thead>\n",
       "    <tr style=\"text-align: right;\">\n",
       "      <th></th>\n",
       "      <th>Id</th>\n",
       "      <th>Name</th>\n",
       "      <th>Gender</th>\n",
       "      <th>Job</th>\n",
       "      <th>House</th>\n",
       "      <th>Wand</th>\n",
       "      <th>Patronus</th>\n",
       "      <th>Species</th>\n",
       "      <th>Blood status</th>\n",
       "      <th>Hair colour</th>\n",
       "      <th>Eye colour</th>\n",
       "      <th>Loyalty</th>\n",
       "      <th>Skills</th>\n",
       "      <th>Birth</th>\n",
       "      <th>Death</th>\n",
       "    </tr>\n",
       "  </thead>\n",
       "  <tbody>\n",
       "    <tr>\n",
       "      <th>0</th>\n",
       "      <td>1</td>\n",
       "      <td>Harry James Potter</td>\n",
       "      <td>Male</td>\n",
       "      <td>Student</td>\n",
       "      <td>Gryffindor</td>\n",
       "      <td>11\"  Holly  phoenix feather</td>\n",
       "      <td>Stag</td>\n",
       "      <td>Human</td>\n",
       "      <td>Half-blood</td>\n",
       "      <td>Black</td>\n",
       "      <td>Bright green</td>\n",
       "      <td>Albus Dumbledore | Dumbledore's Army | Order o...</td>\n",
       "      <td>Parseltongue| Defence Against the Dark Arts | ...</td>\n",
       "      <td>31 July 1980</td>\n",
       "      <td>NaN</td>\n",
       "    </tr>\n",
       "    <tr>\n",
       "      <th>1</th>\n",
       "      <td>2</td>\n",
       "      <td>Ronald Bilius Weasley</td>\n",
       "      <td>Male</td>\n",
       "      <td>Student</td>\n",
       "      <td>Gryffindor</td>\n",
       "      <td>12\" Ash unicorn tail hair</td>\n",
       "      <td>Jack Russell terrier</td>\n",
       "      <td>Human</td>\n",
       "      <td>Pure-blood</td>\n",
       "      <td>Red</td>\n",
       "      <td>Blue</td>\n",
       "      <td>Dumbledore's Army | Order of the Phoenix | Hog...</td>\n",
       "      <td>Wizard chess | Quidditch goalkeeping</td>\n",
       "      <td>1 March 1980</td>\n",
       "      <td>NaN</td>\n",
       "    </tr>\n",
       "    <tr>\n",
       "      <th>2</th>\n",
       "      <td>3</td>\n",
       "      <td>Hermione Jean Granger</td>\n",
       "      <td>Female</td>\n",
       "      <td>Student</td>\n",
       "      <td>Gryffindor</td>\n",
       "      <td>10¾\"  vine wood dragon heartstring</td>\n",
       "      <td>Otter</td>\n",
       "      <td>Human</td>\n",
       "      <td>Muggle-born</td>\n",
       "      <td>Brown</td>\n",
       "      <td>Brown</td>\n",
       "      <td>Dumbledore's Army | Order of the Phoenix | Hog...</td>\n",
       "      <td>Almost everything</td>\n",
       "      <td>19 September, 1979</td>\n",
       "      <td>NaN</td>\n",
       "    </tr>\n",
       "    <tr>\n",
       "      <th>3</th>\n",
       "      <td>4</td>\n",
       "      <td>Albus Percival Wulfric Brian Dumbledore</td>\n",
       "      <td>Male</td>\n",
       "      <td>Headmaster</td>\n",
       "      <td>Gryffindor</td>\n",
       "      <td>15\" Elder Thestral tail hair core</td>\n",
       "      <td>Phoenix</td>\n",
       "      <td>Human</td>\n",
       "      <td>Half-blood</td>\n",
       "      <td>Silver| formerly auburn</td>\n",
       "      <td>Blue</td>\n",
       "      <td>Dumbledore's Army | Order of the Phoenix | Hog...</td>\n",
       "      <td>Considered by many to be one of the most power...</td>\n",
       "      <td>Late August 1881</td>\n",
       "      <td>30 June, 1997</td>\n",
       "    </tr>\n",
       "    <tr>\n",
       "      <th>4</th>\n",
       "      <td>5</td>\n",
       "      <td>Rubeus Hagrid</td>\n",
       "      <td>Male</td>\n",
       "      <td>Keeper of Keys and Grounds | Professor of Care...</td>\n",
       "      <td>Gryffindor</td>\n",
       "      <td>16\"  Oak unknown core</td>\n",
       "      <td>NaN</td>\n",
       "      <td>Half-Human/Half-Giant</td>\n",
       "      <td>Part-Human (Half-giant)</td>\n",
       "      <td>Black</td>\n",
       "      <td>Black</td>\n",
       "      <td>Albus Dumbledore | Order of the Phoenix | Hogw...</td>\n",
       "      <td>Resistant to stunning spells| above average st...</td>\n",
       "      <td>6 December 1928</td>\n",
       "      <td>NaN</td>\n",
       "    </tr>\n",
       "  </tbody>\n",
       "</table>\n",
       "</div>"
      ],
      "text/plain": [
       "   Id                                     Name  Gender  \\\n",
       "0   1                       Harry James Potter    Male   \n",
       "1   2                    Ronald Bilius Weasley    Male   \n",
       "2   3                    Hermione Jean Granger  Female   \n",
       "3   4  Albus Percival Wulfric Brian Dumbledore    Male   \n",
       "4   5                            Rubeus Hagrid    Male   \n",
       "\n",
       "                                                 Job       House  \\\n",
       "0                                            Student  Gryffindor   \n",
       "1                                            Student  Gryffindor   \n",
       "2                                            Student  Gryffindor   \n",
       "3                                         Headmaster  Gryffindor   \n",
       "4  Keeper of Keys and Grounds | Professor of Care...  Gryffindor   \n",
       "\n",
       "                                 Wand              Patronus  \\\n",
       "0         11\"  Holly  phoenix feather                  Stag   \n",
       "1          12\" Ash unicorn tail hair   Jack Russell terrier   \n",
       "2  10¾\"  vine wood dragon heartstring                 Otter   \n",
       "3   15\" Elder Thestral tail hair core               Phoenix   \n",
       "4               16\"  Oak unknown core                   NaN   \n",
       "\n",
       "                 Species             Blood status              Hair colour  \\\n",
       "0                  Human               Half-blood                    Black   \n",
       "1                  Human               Pure-blood                      Red   \n",
       "2                  Human              Muggle-born                    Brown   \n",
       "3                  Human               Half-blood  Silver| formerly auburn   \n",
       "4  Half-Human/Half-Giant  Part-Human (Half-giant)                    Black   \n",
       "\n",
       "     Eye colour                                            Loyalty  \\\n",
       "0  Bright green  Albus Dumbledore | Dumbledore's Army | Order o...   \n",
       "1          Blue  Dumbledore's Army | Order of the Phoenix | Hog...   \n",
       "2         Brown  Dumbledore's Army | Order of the Phoenix | Hog...   \n",
       "3          Blue  Dumbledore's Army | Order of the Phoenix | Hog...   \n",
       "4         Black  Albus Dumbledore | Order of the Phoenix | Hogw...   \n",
       "\n",
       "                                              Skills               Birth  \\\n",
       "0  Parseltongue| Defence Against the Dark Arts | ...        31 July 1980   \n",
       "1               Wizard chess | Quidditch goalkeeping        1 March 1980   \n",
       "2                                  Almost everything  19 September, 1979   \n",
       "3  Considered by many to be one of the most power...    Late August 1881   \n",
       "4  Resistant to stunning spells| above average st...     6 December 1928   \n",
       "\n",
       "            Death  \n",
       "0             NaN  \n",
       "1             NaN  \n",
       "2             NaN  \n",
       "3  30 June, 1997   \n",
       "4             NaN  "
      ]
     },
     "execution_count": 41,
     "metadata": {},
     "output_type": "execute_result"
    }
   ],
   "source": [
    "df_orig.head() # OBSERVAMOS PRIMERAS FILAS"
   ]
  },
  {
   "cell_type": "markdown",
   "metadata": {},
   "source": [
    "Compruebo los valores únicos de algunas columnas para ver su contenido y si hay que limpiar o agrupar de alguna forma."
   ]
  },
  {
   "cell_type": "code",
   "execution_count": 42,
   "metadata": {},
   "outputs": [
    {
     "name": "stdout",
     "output_type": "stream",
     "text": [
      "Valores únicos en 'House':\n",
      "['Gryffindor' 'Ravenclaw' 'Slytherin' nan 'Hufflepuff'\n",
      " 'Beauxbatons Academy of Magic' 'Durmstrang Institute']\n",
      "\n",
      "\n",
      "Valores únicos en 'Hair colour':\n",
      "['Black' 'Red' 'Brown' 'Silver| formerly auburn' 'Blond' 'Sandy' 'Auburn'\n",
      " 'Light brown flecked with grey' 'Colourless and balding' nan 'Dark'\n",
      " 'Mousy' 'Dirty-blonde' 'White' 'Reddish-blonde' 'Blonde' 'White-blond'\n",
      " 'Iron grey' 'Bald' 'Grey' 'White (balding)' 'Straw blond' 'Variable'\n",
      " 'Red brown' 'Brown/greying' 'Silver| formerly black' 'Tawny' 'Silver'\n",
      " 'Silvery-blonde' 'Ginger' 'Straw-coloured' 'Red ' 'Reddish-brown'\n",
      " 'Mousy brown' 'Jet-black' 'White blond' 'Green']\n",
      "\n",
      "\n",
      "Valores únicos en 'Eye colour':\n",
      "['Bright green' 'Blue' 'Brown' 'Black' nan 'Bright brown' 'Hazel' 'Grey'\n",
      " 'Green' 'Dark' 'Pale silvery' 'Silvery' 'Gooseberry' 'Scarlet\\xa0'\n",
      " 'Pale, freckled' 'Astonishingly blue' 'Variable'\n",
      " 'One dark,\\xa0one electric blue' 'Yellowish' 'Ruddy' 'Grey/Blue['\n",
      " 'Dark blue[' 'Bright Blue' 'Dark Grey' 'Pale' 'Yellow']\n",
      "\n",
      "\n",
      "Valores únicos en 'Species':\n",
      "['Human' 'Half-Human/Half-Giant' 'Werewolf'\n",
      " 'Human\\xa0(Werewolf\\xa0traits)' 'Human(goblin ancestry)' 'Ghost'\n",
      " 'Centaur' 'Human\\xa0' 'Human\\xa0(Metamorphmagus)' 'House elf']\n",
      "\n",
      "\n",
      "Valores únicos en 'Skills':\n",
      "['Parseltongue| Defence Against the Dark Arts | Seeker'\n",
      " 'Wizard chess | Quidditch goalkeeping' 'Almost everything'\n",
      " 'Considered by many to be one of the most powerful wizards of his time'\n",
      " 'Resistant to stunning spells| above average strength | crossbowmanship'\n",
      " 'Herbology' 'Beater' 'Chaser| Bat-Bogey hex' 'Chaser' 'Pyrotechnics' nan\n",
      " 'Animagus| Seeker' 'Animagus| nonverbal magic| Charms'\n",
      " 'Exceptionally gifted in Defence Against the Dark Arts' 'Animagus'\n",
      " 'Intelligent| hard-working| a model student'\n",
      " 'Highly skilled curse-breaker for Gringotts Wizarding Bank| very intelligent| past Hogwarts Head Boy'\n",
      " 'Highly skilled dragon trainer| one-time Gryffindor Seeker'\n",
      " 'Quidditch commentary | broadcasting'\n",
      " 'Keeper|  Captain of the Gryffindor Quidditch team' 'Divination'\n",
      " 'Spiking Chocolate Cauldrons with love potion' 'Photography'\n",
      " 'Quidditch Keeper' 'Animagus\\xa0' 'Household spells| healing magic'\n",
      " 'Muggle world works'\n",
      " 'Learned in the theory of Defensive Magic| less adept in the practise'\n",
      " 'Seeker' 'Spotting Nargles' 'Charms'\n",
      " 'A Seer, though the gift is unpredictable and unconscious'\n",
      " 'An incomparable understanding of wandcraft' 'Prefect' 'Potions'\n",
      " \"Covering up the spots that blight her face after betraying Dumbledore's Army\"\n",
      " 'Potions, also knowledgable about Charms'\n",
      " 'Extremely skilled at potions and Occlumency' 'Prefect, Seeker'\n",
      " 'She is a duellist of great skill and an experienced Occlumens'\n",
      " 'Her punishment quill is of her own invention'\n",
      " 'Accomplished Occlumens, expert Potioneer, advanced self-transfiguration'\n",
      " 'Skilled duellist and potioneer'\n",
      " 'Dark Lord, Outstanding manipulation, Parseltongue, Heir of Slytherin, Dark magic, Inferi creation and control'\n",
      " 'Quidditch captain, Chaser' 'Controlling Peeves' 'Chaser, Captain'\n",
      " 'Quidditch Captain, Chaser'\n",
      " 'Accomplished Legilimens and one of the first recorded Parselmouths'\n",
      " 'The most accomplished duellist of his time'\n",
      " 'Extremely skilled witch, known for her intelligence and wisdom'\n",
      " 'Boring a class with facts that might be interesting if anyone else was giving the lesson'\n",
      " 'Skilled potioneer' 'Teaching and studying the Muggle world'\n",
      " 'Spreading anti-Muggle propaganda' 'Cruciatus Curse'\n",
      " 'Food-related Charms. Many traditional Hogwarts recipes originated with her'\n",
      " 'Curing peasants of the pox' 'Talented Auror, Metamorphmagus'\n",
      " 'Magizoology, Order of Merlin, Second Class' 'Skilled Seeker'\n",
      " \"Defensive spells, learned with Dumbledore's Army\"\n",
      " 'Revising, being a Prefect, getting the wrong end of the stick'\n",
      " 'Liaising with giants' 'Spying for Lord Voldemort'\n",
      " \"Duelling. Fought and killed Molly Weasley's brothers and Remus Lupin\"\n",
      " 'Imperius curse, undercover work' 'Skilled in the Dark Arts'\n",
      " 'Exceptionally skilled duellist and Auror'\n",
      " 'A highly accomplished Auror and an outstanding duellist, also skilled in non-verbal magic'\n",
      " 'Auror' 'Highly regarded as a skilled Auror'\n",
      " 'Turning a blind eye to the continuing threat of Dark Magic in the name of keeping up morale'\n",
      " 'Multilingual, able to fight the Imperius curse'\n",
      " 'Works for the Department for the Regulation and Control of Magical Creatures'\n",
      " 'An enthusiastic volunteer for the Order and a helpful escort for Harry and his relatives'\n",
      " 'Writing'\n",
      " 'part Veela, and therefore possesses some of their magical powers. She was also selected to compete in the Triwizard Tournament'\n",
      " 'Bartending, caring for Ariana'\n",
      " \"Gathering information for the Order, dealing in stolen cauldrons, 'acquiring' the odd Muggle car\"\n",
      " 'Carrying out guard duty for the Order'\n",
      " 'Carrying out escort missions for the Order' 'Duelling'\n",
      " 'Said to be a great wizard'\n",
      " 'An ‘excellent dancer’, in the words of Dumbledore himself'\n",
      " 'part Veela and therefore may possess some of their magical powers'\n",
      " 'One of the best Seekers in the world'\n",
      " \"Schmoozing clients, pretending magic doesn't exist\" 'Breeding bulldogs'\n",
      " 'Sniffing out mischief' 'Skilled medical healer'\n",
      " 'Teaching, flying, refereeing Quidditch matches' 'Physical combat'\n",
      " 'A type of magic specific to house-elves, performed without a wand which includes the ability to apparate, disarm and make objects levitate'\n",
      " 'Magic performed without a wand which includes the ability to apparate, disarm and make objects levitate']\n",
      "\n",
      "\n",
      "Valores únicos en 'Loyalty':\n",
      "[\"Albus Dumbledore | Dumbledore's Army | Order of the Phoenix | Hogwarts School of Witchcraft and Wizardry\"\n",
      " \"Dumbledore's Army | Order of the Phoenix | Hogwarts School of Witchcraft and Wizardry\"\n",
      " 'Albus Dumbledore | Order of the Phoenix | Hogwarts School of Witchcraft and Wizardry'\n",
      " \"Dumbledore's Army | Hogwarts School of Witchcraft and Wizardry\"\n",
      " 'Order of the Phoenix' 'Lord Voldemort| Death Eaters'\n",
      " 'Order of the Phoenix| Hogwarts School of Witchcraft and Wizardry |British Ministry of Magic'\n",
      " 'Order of the Phoenix | Gringotts Wizarding Bank'\n",
      " 'Hogwarts School of Witchcraft and Wizardry'\n",
      " \"Dumbledore's Army |Hogwarts School of Witchcraft and Wizardry\"\n",
      " 'Order of the Phoenix| British Ministry of Magic' 'Lord Voldemort' nan\n",
      " 'Lord Voldemort \\xa0| Death Eaters' 'Ministry of Magic'\n",
      " 'Ministry of Magic | Order of the Phoenix' \"Dumbledore's Army\"\n",
      " 'Original Order of the Phoenix' 'Minister of Magic'\n",
      " \"Gellert Grindelwald's Acolytes\"]\n",
      "\n",
      "\n"
     ]
    }
   ],
   "source": [
    "# Obtener los valores únicos de las columnas relevantes\n",
    "columns_to_check = [\"House\", \"Hair colour\", \"Eye colour\", \"Species\", \"Skills\", \"Loyalty\"]\n",
    "\n",
    "# Mostrar los valores únicos para cada columna\n",
    "for col in columns_to_check:\n",
    "    print(f\"Valores únicos en '{col}':\")\n",
    "    print(df_orig[col].unique())\n",
    "    print(\"\\n\")"
   ]
  },
  {
   "cell_type": "markdown",
   "metadata": {},
   "source": [
    "- Muchas columnas con nulos, hay que revisar que hacer (posiblemente haya que rellenar con 'Unknown' o sustituir por estadístico).\n",
    "- Columnas categóricas House, Loyalty, Species, Eye Colour Y hair Colour hay que revisar incosistencias o posibles agrupaciones.\n",
    "- Eliminar las columnas birth Y death, no son de importancia para mí y son problemáticas.\n",
    "- Columna ID y name con cardinalidades 100%, se pueden usar cómo Index."
   ]
  },
  {
   "cell_type": "code",
   "execution_count": 43,
   "metadata": {},
   "outputs": [],
   "source": [
    "df_copy = df_orig.copy()"
   ]
  },
  {
   "cell_type": "code",
   "execution_count": 44,
   "metadata": {},
   "outputs": [],
   "source": [
    "# ELIMINO DUPLICADOS POR SI ACASO EXISTEN\n",
    "df_copy = df_copy.drop_duplicates()\n",
    "\n",
    "# ELIMINO ESTAS TRES COLUMNAS PORQUE NO SON RELEVANTES PARA MI ANÁLISIS\n",
    "df_copy = df_copy.drop(columns = [\"Birth\", \"Death\", \"Skills\"])"
   ]
  },
  {
   "cell_type": "code",
   "execution_count": 45,
   "metadata": {},
   "outputs": [
    {
     "name": "stdout",
     "output_type": "stream",
     "text": [
      "<class 'pandas.core.frame.DataFrame'>\n",
      "RangeIndex: 140 entries, 0 to 139\n",
      "Data columns (total 12 columns):\n",
      " #   Column        Non-Null Count  Dtype \n",
      "---  ------        --------------  ----- \n",
      " 0   Id            140 non-null    int64 \n",
      " 1   Name          140 non-null    object\n",
      " 2   Gender        139 non-null    object\n",
      " 3   Job           121 non-null    object\n",
      " 4   House         101 non-null    object\n",
      " 5   Wand          132 non-null    object\n",
      " 6   Patronus      123 non-null    object\n",
      " 7   Species       140 non-null    object\n",
      " 8   Blood status  123 non-null    object\n",
      " 9   Hair colour   123 non-null    object\n",
      " 10  Eye colour    86 non-null     object\n",
      " 11  Loyalty       89 non-null     object\n",
      "dtypes: int64(1), object(11)\n",
      "memory usage: 13.3+ KB\n"
     ]
    }
   ],
   "source": [
    "df_copy.info()"
   ]
  },
  {
   "cell_type": "markdown",
   "metadata": {},
   "source": [
    "Primero vamos a limpiar las columnas House, Eye_Colour, Hair_colour y Species (De momento sin tocar los NaN)"
   ]
  },
  {
   "cell_type": "code",
   "execution_count": 46,
   "metadata": {},
   "outputs": [],
   "source": [
    "# FUNCIÓN PARA LIMPIAR LAS COLUMNAS SPECIES, HOUSE, HAIR_COLOUR Y EYE_COLOUR\n",
    "df_copy = fc.map_dataframe(df_copy)"
   ]
  },
  {
   "cell_type": "markdown",
   "metadata": {},
   "source": [
    "Ahora reemplazamos los NaN por:\n"
   ]
  },
  {
   "cell_type": "code",
   "execution_count": null,
   "metadata": {},
   "outputs": [],
   "source": []
  },
  {
   "cell_type": "code",
   "execution_count": 47,
   "metadata": {},
   "outputs": [
    {
     "name": "stdout",
     "output_type": "stream",
     "text": [
      "Antes de limpiar:\n",
      "House           6\n",
      "Species        10\n",
      "Hair colour    36\n",
      "Eye colour     25\n",
      "dtype: int64\n",
      "\n",
      "\n",
      " Después de limpiar:\n",
      "House           6\n",
      "Species         6\n",
      "Hair colour    10\n",
      "Eye colour      8\n",
      "dtype: int64\n"
     ]
    }
   ],
   "source": [
    "# MOSTRAMOS LOS VALORES ÚNICOS ANTES Y DESPUÉS DE LIMPIAR\n",
    "print(\"Antes de limpiar:\")\n",
    "print(df_orig[[\"House\", \"Species\", \"Hair colour\", \"Eye colour\"]].nunique())\n",
    "\n",
    "print(\"\\n\\n\", \"Después de limpiar:\")\n",
    "print(df_copy[[\"House\", \"Species\", \"Hair colour\", \"Eye colour\"]].nunique())"
   ]
  },
  {
   "cell_type": "markdown",
   "metadata": {},
   "source": [
    "Ahora obtenemos los valores absolutos y relativos de estas 4 columnas limpiadas"
   ]
  },
  {
   "cell_type": "code",
   "execution_count": null,
   "metadata": {},
   "outputs": [],
   "source": [
    "abs_values_house = df_copy['House'].value_counts()\n",
    "rel_values_house = df_copy['House'].value_counts(normalize = True)\n",
    "\n",
    "abs_values_species = df_copy['Species'].value_counts()\n",
    "rel_values_species = df_copy['Species'].value_counts(normalize = True)\n",
    "\n",
    "abs_values_eye_colour = df_copy['Eye colour'].value_counts()\n",
    "rel_values_eye_colour = df_copy['Eye colour'].value_counts(normalize = True)\n",
    "\n",
    "abs_values__hair_colour = df_copy['Hair colour'].value_counts()\n",
    "rel_values__hair_colour = df_copy['Hair colour'].value_counts(normalize = True)"
   ]
  },
  {
   "cell_type": "code",
   "execution_count": null,
   "metadata": {},
   "outputs": [],
   "source": [
    "print(abs_values_house)\n",
    "print(rel_values_house)"
   ]
  },
  {
   "cell_type": "code",
   "execution_count": null,
   "metadata": {},
   "outputs": [],
   "source": [
    "print(abs_values_species)\n",
    "print(rel_values_species)"
   ]
  },
  {
   "cell_type": "code",
   "execution_count": null,
   "metadata": {},
   "outputs": [],
   "source": [
    "print(abs_values_eye_colour)\n",
    "print(rel_values_eye_colour)"
   ]
  },
  {
   "cell_type": "code",
   "execution_count": null,
   "metadata": {},
   "outputs": [],
   "source": [
    "print(abs_values__hair_colour)\n",
    "print(rel_values__hair_colour)"
   ]
  },
  {
   "cell_type": "markdown",
   "metadata": {},
   "source": [
    "Limpiamos la columna Loyalty (De momento sin tocar los NaN)"
   ]
  },
  {
   "cell_type": "markdown",
   "metadata": {},
   "source": [
    "Primero vamos a hacer un value_counts() para ver la distribución de esta columna"
   ]
  },
  {
   "cell_type": "code",
   "execution_count": 48,
   "metadata": {},
   "outputs": [
    {
     "data": {
      "text/plain": [
       "Loyalty\n",
       "NaN                                                                                                         51\n",
       "Order of the Phoenix                                                                                        16\n",
       "Dumbledore's Army |Hogwarts School of Witchcraft and Wizardry                                               14\n",
       "Lord Voldemort  | Death Eaters                                                                              12\n",
       "Original Order of the Phoenix                                                                                8\n",
       "Hogwarts School of Witchcraft and Wizardry                                                                   8\n",
       "Dumbledore's Army | Order of the Phoenix | Hogwarts School of Witchcraft and Wizardry                        8\n",
       "Dumbledore's Army                                                                                            6\n",
       "Minister of Magic                                                                                            4\n",
       "Albus Dumbledore | Order of the Phoenix | Hogwarts School of Witchcraft and Wizardry                         2\n",
       "Dumbledore's Army | Hogwarts School of Witchcraft and Wizardry                                               2\n",
       "Albus Dumbledore | Dumbledore's Army | Order of the Phoenix | Hogwarts School of Witchcraft and Wizardry     1\n",
       "Ministry of Magic                                                                                            1\n",
       "Ministry of Magic | Order of the Phoenix                                                                     1\n",
       "Order of the Phoenix| British Ministry of Magic                                                              1\n",
       "Lord Voldemort                                                                                               1\n",
       "Order of the Phoenix | Gringotts Wizarding Bank                                                              1\n",
       "Order of the Phoenix| Hogwarts School of Witchcraft and Wizardry |British Ministry of Magic                  1\n",
       "Lord Voldemort| Death Eaters                                                                                 1\n",
       "Gellert Grindelwald's Acolytes                                                                               1\n",
       "Name: count, dtype: int64"
      ]
     },
     "execution_count": 48,
     "metadata": {},
     "output_type": "execute_result"
    }
   ],
   "source": [
    "df_copy[\"Loyalty\"].value_counts(dropna = False)"
   ]
  },
  {
   "cell_type": "markdown",
   "metadata": {},
   "source": [
    "Aplicamos la función de categorize_values() a la columna 'Loyalty'"
   ]
  },
  {
   "cell_type": "code",
   "execution_count": null,
   "metadata": {},
   "outputs": [],
   "source": [
    "df_copy[\"Loyalty\"] = df_copy['Loyalty'].apply(lambda x: fc.categorize_values(x, fc.loyalty_mapping))\n"
   ]
  },
  {
   "cell_type": "markdown",
   "metadata": {},
   "source": [
    "Volvemos a hacer un value_counts() para ver cómo ha quedado"
   ]
  },
  {
   "cell_type": "code",
   "execution_count": null,
   "metadata": {},
   "outputs": [],
   "source": [
    "df_copy[\"Loyalty\"].value_counts(dropna = False)"
   ]
  },
  {
   "cell_type": "markdown",
   "metadata": {},
   "source": [
    "Limpiamos los NaN"
   ]
  },
  {
   "cell_type": "code",
   "execution_count": null,
   "metadata": {},
   "outputs": [],
   "source": []
  },
  {
   "cell_type": "markdown",
   "metadata": {},
   "source": [
    "Obtenemos los valores absolutos y relativos de 'Loyalty'"
   ]
  },
  {
   "cell_type": "code",
   "execution_count": null,
   "metadata": {},
   "outputs": [],
   "source": [
    "# OBTENEMOS LOS VALORES ABSOLUTOS Y RELATIVOS DE LA COLUMNA\n",
    "abs_values_loyalty = df_copy['Loyalty'].value_counts()\n",
    "rel_values_loyalty = df_copy['Loyalty'].value_counts(normalize = True)"
   ]
  },
  {
   "cell_type": "code",
   "execution_count": null,
   "metadata": {},
   "outputs": [
    {
     "data": {
      "text/plain": [
       "Loyalty\n",
       "NaN                                          51\n",
       "[Hogwarts]                                   30\n",
       "[Order of the Phoenix]                       24\n",
       "[Death Eaters]                               14\n",
       "[Hogwarts, Order of the Phoenix]             11\n",
       "[Others]                                      5\n",
       "[Others, Order of the Phoenix]                2\n",
       "[Others, Hogwarts, Order of the Phoenix]      1\n",
       "[Ministry of Magic]                           1\n",
       "[Ministry of Magic, Order of the Phoenix]     1\n",
       "Name: count, dtype: int64"
      ]
     },
     "execution_count": 51,
     "metadata": {},
     "output_type": "execute_result"
    }
   ],
   "source": [
    "print((abs_values_loyalty))"
   ]
  },
  {
   "cell_type": "markdown",
   "metadata": {},
   "source": [
    "Cómo la columna 'Loyalty' contiene listas de valores, vamos a hacer una copia de este df para luego poder aplicar el método explode( ) y poder visualizar las posibles relaciones de esa columna con otras."
   ]
  },
  {
   "cell_type": "code",
   "execution_count": null,
   "metadata": {},
   "outputs": [],
   "source": [
    "#df_copy_exploded = df_copy.explode(\"Loyalty\")"
   ]
  },
  {
   "cell_type": "code",
   "execution_count": null,
   "metadata": {},
   "outputs": [],
   "source": [
    "# POSIBLE CÓDIGO PARA VISUALIZAR LA COLUMNA 'LOYALTY' JUNTO A OTRAS\n",
    "#sns.countplot(data = df_copy_exploded, x = 'Categoria1', hue = 'Categoria2')\n",
    "#plt.title(\"Relación entre Categoría 1 y 2\")\n",
    "#plt.show()"
   ]
  },
  {
   "cell_type": "code",
   "execution_count": null,
   "metadata": {},
   "outputs": [],
   "source": [
    "# POSIBLE CÓDIGO PARA VISUALIZAR LA COLUMNA 'LOYALTY' JUNTO A OTRAS\n",
    "#heatmap_data = df_exploded.value_counts(['Categoria1', 'Categoria2']).unstack(fill_value=0)\n",
    "\n",
    "#sns.heatmap(heatmap_data, annot=True, cmap=\"coolwarm\", cbar=True)\n",
    "#plt.title(\"Frecuencias entre categorías\")\n",
    "#plt.ylabel(\"Categoría 1\")\n",
    "#plt.xlabel(\"Categoría 2\")\n",
    "#plt.show()"
   ]
  },
  {
   "cell_type": "markdown",
   "metadata": {},
   "source": [
    "## Análisis univariante"
   ]
  },
  {
   "cell_type": "markdown",
   "metadata": {},
   "source": []
  },
  {
   "cell_type": "markdown",
   "metadata": {},
   "source": [
    "## Análisis bivariante"
   ]
  },
  {
   "cell_type": "markdown",
   "metadata": {},
   "source": []
  },
  {
   "cell_type": "markdown",
   "metadata": {},
   "source": [
    "## Análisis multivariante"
   ]
  },
  {
   "cell_type": "markdown",
   "metadata": {},
   "source": []
  }
 ],
 "metadata": {
  "kernelspec": {
   "display_name": "base",
   "language": "python",
   "name": "python3"
  },
  "language_info": {
   "codemirror_mode": {
    "name": "ipython",
    "version": 3
   },
   "file_extension": ".py",
   "mimetype": "text/x-python",
   "name": "python",
   "nbconvert_exporter": "python",
   "pygments_lexer": "ipython3",
   "version": "3.12.4"
  }
 },
 "nbformat": 4,
 "nbformat_minor": 2
}
