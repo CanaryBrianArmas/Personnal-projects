{
 "cells": [
  {
   "cell_type": "markdown",
   "metadata": {},
   "source": [
    "# EDA sobre un Dataset de los personajes que aparecen en Harry Potter"
   ]
  },
  {
   "cell_type": "markdown",
   "metadata": {},
   "source": [
    "Este es un análisis para obtener información relevante sobre el dataset de los personajes de Harry Potter."
   ]
  },
  {
   "cell_type": "code",
   "execution_count": 1,
   "metadata": {},
   "outputs": [],
   "source": [
    "import numpy as np\n",
    "from Functions_Visual import *\n",
    "import Functions_Visual as fv\n",
    "import Functions_Cleaning as fc"
   ]
  },
  {
   "cell_type": "code",
   "execution_count": 2,
   "metadata": {},
   "outputs": [],
   "source": [
    "# ESTABLECEMOS EL TEMA BASE DE LOS GRÁFICOS QUE SE VAN A REALIZAR\n",
    "# HACEMOS QUE LOS GRÁFICOS SIEMPRE SE QUEDEN GRABADOS EN EL NOTEBOOK\n",
    "sns.set_theme()\n",
    "%matplotlib inline"
   ]
  },
  {
   "cell_type": "code",
   "execution_count": 3,
   "metadata": {},
   "outputs": [],
   "source": [
    "# CARGAMOS EL DATASET\n",
    "df_orig = pd.read_csv('./data/Characters_Harry_Potter.csv', sep = \";\")"
   ]
  },
  {
   "cell_type": "code",
   "execution_count": 4,
   "metadata": {},
   "outputs": [
    {
     "name": "stdout",
     "output_type": "stream",
     "text": [
      "<class 'pandas.core.frame.DataFrame'>\n",
      "RangeIndex: 140 entries, 0 to 139\n",
      "Data columns (total 15 columns):\n",
      " #   Column        Non-Null Count  Dtype \n",
      "---  ------        --------------  ----- \n",
      " 0   Id            140 non-null    int64 \n",
      " 1   Name          140 non-null    object\n",
      " 2   Gender        139 non-null    object\n",
      " 3   Job           121 non-null    object\n",
      " 4   House         101 non-null    object\n",
      " 5   Wand          132 non-null    object\n",
      " 6   Patronus      123 non-null    object\n",
      " 7   Species       140 non-null    object\n",
      " 8   Blood status  123 non-null    object\n",
      " 9   Hair colour   123 non-null    object\n",
      " 10  Eye colour    86 non-null     object\n",
      " 11  Loyalty       89 non-null     object\n",
      " 12  Skills        113 non-null    object\n",
      " 13  Birth         127 non-null    object\n",
      " 14  Death         42 non-null     object\n",
      "dtypes: int64(1), object(14)\n",
      "memory usage: 16.5+ KB\n"
     ]
    }
   ],
   "source": [
    "df_orig.info() # MOSTRAMOS ESTRUCTURA GENERAL DEL DATASET"
   ]
  },
  {
   "cell_type": "code",
   "execution_count": null,
   "metadata": {},
   "outputs": [
    {
     "data": {
      "text/html": [
       "<div>\n",
       "<style scoped>\n",
       "    .dataframe tbody tr th:only-of-type {\n",
       "        vertical-align: middle;\n",
       "    }\n",
       "\n",
       "    .dataframe tbody tr th {\n",
       "        vertical-align: top;\n",
       "    }\n",
       "\n",
       "    .dataframe thead th {\n",
       "        text-align: right;\n",
       "    }\n",
       "</style>\n",
       "<table border=\"1\" class=\"dataframe\">\n",
       "  <thead>\n",
       "    <tr style=\"text-align: right;\">\n",
       "      <th></th>\n",
       "      <th>Id</th>\n",
       "    </tr>\n",
       "  </thead>\n",
       "  <tbody>\n",
       "    <tr>\n",
       "      <th>count</th>\n",
       "      <td>140.0000</td>\n",
       "    </tr>\n",
       "    <tr>\n",
       "      <th>mean</th>\n",
       "      <td>70.5000</td>\n",
       "    </tr>\n",
       "    <tr>\n",
       "      <th>std</th>\n",
       "      <td>40.5586</td>\n",
       "    </tr>\n",
       "    <tr>\n",
       "      <th>min</th>\n",
       "      <td>1.0000</td>\n",
       "    </tr>\n",
       "    <tr>\n",
       "      <th>25%</th>\n",
       "      <td>35.7500</td>\n",
       "    </tr>\n",
       "    <tr>\n",
       "      <th>50%</th>\n",
       "      <td>70.5000</td>\n",
       "    </tr>\n",
       "    <tr>\n",
       "      <th>75%</th>\n",
       "      <td>105.2500</td>\n",
       "    </tr>\n",
       "    <tr>\n",
       "      <th>max</th>\n",
       "      <td>140.0000</td>\n",
       "    </tr>\n",
       "  </tbody>\n",
       "</table>\n",
       "</div>"
      ],
      "text/plain": [
       "             Id\n",
       "count  140.0000\n",
       "mean    70.5000\n",
       "std     40.5586\n",
       "min      1.0000\n",
       "25%     35.7500\n",
       "50%     70.5000\n",
       "75%    105.2500\n",
       "max    140.0000"
      ]
     },
     "execution_count": 5,
     "metadata": {},
     "output_type": "execute_result"
    }
   ],
   "source": [
    "df_orig.describe() # PRESENTAMOS ESTADISTICAS DESCRIPTIVAS(SÓLO HAY UNA COLUMNA NUMÉRICA LA CUÁL NO SIRVE PARA ANALIZAR)"
   ]
  },
  {
   "cell_type": "code",
   "execution_count": null,
   "metadata": {},
   "outputs": [
    {
     "name": "stdout",
     "output_type": "stream",
     "text": [
      "Valores faltantes por columna:\n",
      "Id               0\n",
      "Name             0\n",
      "Gender           1\n",
      "Job             19\n",
      "House           39\n",
      "Wand             8\n",
      "Patronus        17\n",
      "Species          0\n",
      "Blood status    17\n",
      "Hair colour     17\n",
      "Eye colour      54\n",
      "Loyalty         51\n",
      "Skills          27\n",
      "Birth           13\n",
      "Death           98\n",
      "dtype: int64 \n",
      "\n",
      "\n",
      "Valores únicos:\n",
      "Id              140\n",
      "Name            140\n",
      "Gender            2\n",
      "Job              65\n",
      "House             6\n",
      "Wand             29\n",
      "Patronus         19\n",
      "Species          10\n",
      "Blood status     15\n",
      "Hair colour      36\n",
      "Eye colour       25\n",
      "Loyalty          19\n",
      "Skills           94\n",
      "Birth           112\n",
      "Death            25\n",
      "dtype: int64\n"
     ]
    }
   ],
   "source": [
    "# MOSTRAMOS CUANTOS VALORES FALTANTES HAY EN CADA COLUMNA\n",
    "print(\"Valores faltantes por columna:\")\n",
    "print(df_orig.isnull().sum(), \"\\n\\n\")\n",
    "\n",
    "# MOSTRAMOS LA CANTIDAD DE VALORES ÚNICOS PARA DETECTAR POSIBLES INCOSISTENCIAS\n",
    "count_unique_values = df_orig.nunique()\n",
    "print(\"Valores únicos:\")\n",
    "print(count_unique_values)"
   ]
  },
  {
   "cell_type": "code",
   "execution_count": null,
   "metadata": {},
   "outputs": [
    {
     "name": "stdout",
     "output_type": "stream",
     "text": [
      "Valores únicos:\n",
      "Id              140\n",
      "Name            140\n",
      "Gender            2\n",
      "Job              65\n",
      "House             6\n",
      "Wand             29\n",
      "Patronus         19\n",
      "Species          10\n",
      "Blood status     15\n",
      "Hair colour      36\n",
      "Eye colour       25\n",
      "Loyalty          19\n",
      "Skills           94\n",
      "Birth           112\n",
      "Death            25\n",
      "dtype: int64\n",
      "\n",
      "\n",
      " Cardinalidad:\n",
      "Id              100.000000\n",
      "Name            100.000000\n",
      "Gender            1.428571\n",
      "Job              46.428571\n",
      "House             4.285714\n",
      "Wand             20.714286\n",
      "Patronus         13.571429\n",
      "Species           7.142857\n",
      "Blood status     10.714286\n",
      "Hair colour      25.714286\n",
      "Eye colour       17.857143\n",
      "Loyalty          13.571429\n",
      "Skills           67.142857\n",
      "Birth            80.000000\n",
      "Death            17.857143\n",
      "dtype: float64\n"
     ]
    }
   ],
   "source": [
    "# MOSTRAMOS LA CANTIDAD DE VALORES ÚNICOS PARA DETECTAR POSIBLES INCOSISTENCIAS, Y LA CARDINALIDAD\n",
    "count_unique_values = df_orig.nunique()\n",
    "print(\"Valores únicos:\")\n",
    "print(count_unique_values)\n",
    "\n",
    "print(\"\\n\\n\", \"Cardinalidad:\")\n",
    "print(count_unique_values / len(df_orig) * 100)"
   ]
  },
  {
   "cell_type": "markdown",
   "metadata": {},
   "source": [
    "- Dada la alta cardinalidad en la columna skills y Birth, y la alta cantidad de nulos en la columna Death, he decidido eliminarlas. \n",
    "- Tampoco las considero relevantes para mi análisis. "
   ]
  },
  {
   "cell_type": "code",
   "execution_count": null,
   "metadata": {},
   "outputs": [
    {
     "data": {
      "text/html": [
       "<div>\n",
       "<style scoped>\n",
       "    .dataframe tbody tr th:only-of-type {\n",
       "        vertical-align: middle;\n",
       "    }\n",
       "\n",
       "    .dataframe tbody tr th {\n",
       "        vertical-align: top;\n",
       "    }\n",
       "\n",
       "    .dataframe thead th {\n",
       "        text-align: right;\n",
       "    }\n",
       "</style>\n",
       "<table border=\"1\" class=\"dataframe\">\n",
       "  <thead>\n",
       "    <tr style=\"text-align: right;\">\n",
       "      <th></th>\n",
       "      <th>Id</th>\n",
       "      <th>Name</th>\n",
       "      <th>Gender</th>\n",
       "      <th>Job</th>\n",
       "      <th>House</th>\n",
       "      <th>Wand</th>\n",
       "      <th>Patronus</th>\n",
       "      <th>Species</th>\n",
       "      <th>Blood status</th>\n",
       "      <th>Hair colour</th>\n",
       "      <th>Eye colour</th>\n",
       "      <th>Loyalty</th>\n",
       "      <th>Skills</th>\n",
       "      <th>Birth</th>\n",
       "      <th>Death</th>\n",
       "    </tr>\n",
       "  </thead>\n",
       "  <tbody>\n",
       "    <tr>\n",
       "      <th>0</th>\n",
       "      <td>1</td>\n",
       "      <td>Harry James Potter</td>\n",
       "      <td>Male</td>\n",
       "      <td>Student</td>\n",
       "      <td>Gryffindor</td>\n",
       "      <td>11\"  Holly  phoenix feather</td>\n",
       "      <td>Stag</td>\n",
       "      <td>Human</td>\n",
       "      <td>Half-blood</td>\n",
       "      <td>Black</td>\n",
       "      <td>Bright green</td>\n",
       "      <td>Albus Dumbledore | Dumbledore's Army | Order o...</td>\n",
       "      <td>Parseltongue| Defence Against the Dark Arts | ...</td>\n",
       "      <td>31 July 1980</td>\n",
       "      <td>NaN</td>\n",
       "    </tr>\n",
       "    <tr>\n",
       "      <th>1</th>\n",
       "      <td>2</td>\n",
       "      <td>Ronald Bilius Weasley</td>\n",
       "      <td>Male</td>\n",
       "      <td>Student</td>\n",
       "      <td>Gryffindor</td>\n",
       "      <td>12\" Ash unicorn tail hair</td>\n",
       "      <td>Jack Russell terrier</td>\n",
       "      <td>Human</td>\n",
       "      <td>Pure-blood</td>\n",
       "      <td>Red</td>\n",
       "      <td>Blue</td>\n",
       "      <td>Dumbledore's Army | Order of the Phoenix | Hog...</td>\n",
       "      <td>Wizard chess | Quidditch goalkeeping</td>\n",
       "      <td>1 March 1980</td>\n",
       "      <td>NaN</td>\n",
       "    </tr>\n",
       "    <tr>\n",
       "      <th>2</th>\n",
       "      <td>3</td>\n",
       "      <td>Hermione Jean Granger</td>\n",
       "      <td>Female</td>\n",
       "      <td>Student</td>\n",
       "      <td>Gryffindor</td>\n",
       "      <td>10¾\"  vine wood dragon heartstring</td>\n",
       "      <td>Otter</td>\n",
       "      <td>Human</td>\n",
       "      <td>Muggle-born</td>\n",
       "      <td>Brown</td>\n",
       "      <td>Brown</td>\n",
       "      <td>Dumbledore's Army | Order of the Phoenix | Hog...</td>\n",
       "      <td>Almost everything</td>\n",
       "      <td>19 September, 1979</td>\n",
       "      <td>NaN</td>\n",
       "    </tr>\n",
       "    <tr>\n",
       "      <th>3</th>\n",
       "      <td>4</td>\n",
       "      <td>Albus Percival Wulfric Brian Dumbledore</td>\n",
       "      <td>Male</td>\n",
       "      <td>Headmaster</td>\n",
       "      <td>Gryffindor</td>\n",
       "      <td>15\" Elder Thestral tail hair core</td>\n",
       "      <td>Phoenix</td>\n",
       "      <td>Human</td>\n",
       "      <td>Half-blood</td>\n",
       "      <td>Silver| formerly auburn</td>\n",
       "      <td>Blue</td>\n",
       "      <td>Dumbledore's Army | Order of the Phoenix | Hog...</td>\n",
       "      <td>Considered by many to be one of the most power...</td>\n",
       "      <td>Late August 1881</td>\n",
       "      <td>30 June, 1997</td>\n",
       "    </tr>\n",
       "    <tr>\n",
       "      <th>4</th>\n",
       "      <td>5</td>\n",
       "      <td>Rubeus Hagrid</td>\n",
       "      <td>Male</td>\n",
       "      <td>Keeper of Keys and Grounds | Professor of Care...</td>\n",
       "      <td>Gryffindor</td>\n",
       "      <td>16\"  Oak unknown core</td>\n",
       "      <td>NaN</td>\n",
       "      <td>Half-Human/Half-Giant</td>\n",
       "      <td>Part-Human (Half-giant)</td>\n",
       "      <td>Black</td>\n",
       "      <td>Black</td>\n",
       "      <td>Albus Dumbledore | Order of the Phoenix | Hogw...</td>\n",
       "      <td>Resistant to stunning spells| above average st...</td>\n",
       "      <td>6 December 1928</td>\n",
       "      <td>NaN</td>\n",
       "    </tr>\n",
       "  </tbody>\n",
       "</table>\n",
       "</div>"
      ],
      "text/plain": [
       "   Id                                     Name  Gender  \\\n",
       "0   1                       Harry James Potter    Male   \n",
       "1   2                    Ronald Bilius Weasley    Male   \n",
       "2   3                    Hermione Jean Granger  Female   \n",
       "3   4  Albus Percival Wulfric Brian Dumbledore    Male   \n",
       "4   5                            Rubeus Hagrid    Male   \n",
       "\n",
       "                                                 Job       House  \\\n",
       "0                                            Student  Gryffindor   \n",
       "1                                            Student  Gryffindor   \n",
       "2                                            Student  Gryffindor   \n",
       "3                                         Headmaster  Gryffindor   \n",
       "4  Keeper of Keys and Grounds | Professor of Care...  Gryffindor   \n",
       "\n",
       "                                 Wand              Patronus  \\\n",
       "0         11\"  Holly  phoenix feather                  Stag   \n",
       "1          12\" Ash unicorn tail hair   Jack Russell terrier   \n",
       "2  10¾\"  vine wood dragon heartstring                 Otter   \n",
       "3   15\" Elder Thestral tail hair core               Phoenix   \n",
       "4               16\"  Oak unknown core                   NaN   \n",
       "\n",
       "                 Species             Blood status              Hair colour  \\\n",
       "0                  Human               Half-blood                    Black   \n",
       "1                  Human               Pure-blood                      Red   \n",
       "2                  Human              Muggle-born                    Brown   \n",
       "3                  Human               Half-blood  Silver| formerly auburn   \n",
       "4  Half-Human/Half-Giant  Part-Human (Half-giant)                    Black   \n",
       "\n",
       "     Eye colour                                            Loyalty  \\\n",
       "0  Bright green  Albus Dumbledore | Dumbledore's Army | Order o...   \n",
       "1          Blue  Dumbledore's Army | Order of the Phoenix | Hog...   \n",
       "2         Brown  Dumbledore's Army | Order of the Phoenix | Hog...   \n",
       "3          Blue  Dumbledore's Army | Order of the Phoenix | Hog...   \n",
       "4         Black  Albus Dumbledore | Order of the Phoenix | Hogw...   \n",
       "\n",
       "                                              Skills               Birth  \\\n",
       "0  Parseltongue| Defence Against the Dark Arts | ...        31 July 1980   \n",
       "1               Wizard chess | Quidditch goalkeeping        1 March 1980   \n",
       "2                                  Almost everything  19 September, 1979   \n",
       "3  Considered by many to be one of the most power...    Late August 1881   \n",
       "4  Resistant to stunning spells| above average st...     6 December 1928   \n",
       "\n",
       "            Death  \n",
       "0             NaN  \n",
       "1             NaN  \n",
       "2             NaN  \n",
       "3  30 June, 1997   \n",
       "4             NaN  "
      ]
     },
     "execution_count": 8,
     "metadata": {},
     "output_type": "execute_result"
    }
   ],
   "source": [
    "df_orig.head() # OBSERVAMOS PRIMERAS FILAS"
   ]
  },
  {
   "cell_type": "markdown",
   "metadata": {},
   "source": [
    "Compruebo los valores únicos de algunas columnas para ver su contenido y si hay que limpiar o agrupar de alguna forma."
   ]
  },
  {
   "cell_type": "code",
   "execution_count": 9,
   "metadata": {},
   "outputs": [
    {
     "name": "stdout",
     "output_type": "stream",
     "text": [
      "Valores únicos en 'House':\n",
      "['Gryffindor' 'Ravenclaw' 'Slytherin' nan 'Hufflepuff'\n",
      " 'Beauxbatons Academy of Magic' 'Durmstrang Institute']\n",
      "\n",
      "\n",
      "Valores únicos en 'Hair colour':\n",
      "['Black' 'Red' 'Brown' 'Silver| formerly auburn' 'Blond' 'Sandy' 'Auburn'\n",
      " 'Light brown flecked with grey' 'Colourless and balding' nan 'Dark'\n",
      " 'Mousy' 'Dirty-blonde' 'White' 'Reddish-blonde' 'Blonde' 'White-blond'\n",
      " 'Iron grey' 'Bald' 'Grey' 'White (balding)' 'Straw blond' 'Variable'\n",
      " 'Red brown' 'Brown/greying' 'Silver| formerly black' 'Tawny' 'Silver'\n",
      " 'Silvery-blonde' 'Ginger' 'Straw-coloured' 'Red ' 'Reddish-brown'\n",
      " 'Mousy brown' 'Jet-black' 'White blond' 'Green']\n",
      "\n",
      "\n",
      "Valores únicos en 'Eye colour':\n",
      "['Bright green' 'Blue' 'Brown' 'Black' nan 'Bright brown' 'Hazel' 'Grey'\n",
      " 'Green' 'Dark' 'Pale silvery' 'Silvery' 'Gooseberry' 'Scarlet\\xa0'\n",
      " 'Pale, freckled' 'Astonishingly blue' 'Variable'\n",
      " 'One dark,\\xa0one electric blue' 'Yellowish' 'Ruddy' 'Grey/Blue['\n",
      " 'Dark blue[' 'Bright Blue' 'Dark Grey' 'Pale' 'Yellow']\n",
      "\n",
      "\n",
      "Valores únicos en 'Species':\n",
      "['Human' 'Half-Human/Half-Giant' 'Werewolf'\n",
      " 'Human\\xa0(Werewolf\\xa0traits)' 'Human(goblin ancestry)' 'Ghost'\n",
      " 'Centaur' 'Human\\xa0' 'Human\\xa0(Metamorphmagus)' 'House elf']\n",
      "\n",
      "\n",
      "Valores únicos en 'Loyalty':\n",
      "[\"Albus Dumbledore | Dumbledore's Army | Order of the Phoenix | Hogwarts School of Witchcraft and Wizardry\"\n",
      " \"Dumbledore's Army | Order of the Phoenix | Hogwarts School of Witchcraft and Wizardry\"\n",
      " 'Albus Dumbledore | Order of the Phoenix | Hogwarts School of Witchcraft and Wizardry'\n",
      " \"Dumbledore's Army | Hogwarts School of Witchcraft and Wizardry\"\n",
      " 'Order of the Phoenix' 'Lord Voldemort| Death Eaters'\n",
      " 'Order of the Phoenix| Hogwarts School of Witchcraft and Wizardry |British Ministry of Magic'\n",
      " 'Order of the Phoenix | Gringotts Wizarding Bank'\n",
      " 'Hogwarts School of Witchcraft and Wizardry'\n",
      " \"Dumbledore's Army |Hogwarts School of Witchcraft and Wizardry\"\n",
      " 'Order of the Phoenix| British Ministry of Magic' 'Lord Voldemort' nan\n",
      " 'Lord Voldemort \\xa0| Death Eaters' 'Ministry of Magic'\n",
      " 'Ministry of Magic | Order of the Phoenix' \"Dumbledore's Army\"\n",
      " 'Original Order of the Phoenix' 'Minister of Magic'\n",
      " \"Gellert Grindelwald's Acolytes\"]\n",
      "\n",
      "\n"
     ]
    }
   ],
   "source": [
    "# Obtener los valores únicos de las columnas relevantes\n",
    "columns_to_check = [\"House\", \"Hair colour\", \"Eye colour\", \"Species\", \"Loyalty\"]\n",
    "\n",
    "# Mostrar los valores únicos para cada columna\n",
    "for col in columns_to_check:\n",
    "    print(f\"Valores únicos en '{col}':\")\n",
    "    print(df_orig[col].unique())\n",
    "    print(\"\\n\")"
   ]
  },
  {
   "cell_type": "markdown",
   "metadata": {},
   "source": [
    "- Muchas columnas con nulos, hay que revisar que hacer (posiblemente haya que rellenar con 'Unknown' o sustituir por estadístico).\n",
    "- Columnas categóricas House, Loyalty, Species, Eye Colour Y hair Colour hay que revisar incosistencias o posibles agrupaciones.\n",
    "- Eliminar las columnas birth, death, job, skills, wand y patronus pues no son relevantes en mi análisis.\n",
    "- Columna ID y name con cardinalidades 100%, se pueden usar cómo Index."
   ]
  },
  {
   "cell_type": "code",
   "execution_count": 10,
   "metadata": {},
   "outputs": [],
   "source": [
    "df_copy = df_orig.copy()"
   ]
  },
  {
   "cell_type": "code",
   "execution_count": 11,
   "metadata": {},
   "outputs": [],
   "source": [
    "# ELIMINO DUPLICADOS POR SI ACASO EXISTEN\n",
    "df_copy = df_copy.drop_duplicates()\n",
    "\n",
    "# ELIMINO ESTAS COLUMNAS PORQUE NO SON RELEVANTES PARA MI ANÁLISIS\n",
    "df_copy = df_copy.drop(columns = [\"Birth\", \"Death\", \"Skills\", \"Job\", \"Wand\", \"Patronus\"])"
   ]
  },
  {
   "cell_type": "code",
   "execution_count": 12,
   "metadata": {},
   "outputs": [
    {
     "name": "stdout",
     "output_type": "stream",
     "text": [
      "<class 'pandas.core.frame.DataFrame'>\n",
      "RangeIndex: 140 entries, 0 to 139\n",
      "Data columns (total 9 columns):\n",
      " #   Column        Non-Null Count  Dtype \n",
      "---  ------        --------------  ----- \n",
      " 0   Id            140 non-null    int64 \n",
      " 1   Name          140 non-null    object\n",
      " 2   Gender        139 non-null    object\n",
      " 3   House         101 non-null    object\n",
      " 4   Species       140 non-null    object\n",
      " 5   Blood status  123 non-null    object\n",
      " 6   Hair colour   123 non-null    object\n",
      " 7   Eye colour    86 non-null     object\n",
      " 8   Loyalty       89 non-null     object\n",
      "dtypes: int64(1), object(8)\n",
      "memory usage: 10.0+ KB\n"
     ]
    }
   ],
   "source": [
    "df_copy.info()"
   ]
  },
  {
   "cell_type": "markdown",
   "metadata": {},
   "source": [
    "Primero vamos a limpiar las columnas House, Eye colour, Hair colour y Species (De momento sin tocar los NaN)"
   ]
  },
  {
   "cell_type": "code",
   "execution_count": 13,
   "metadata": {},
   "outputs": [],
   "source": [
    "# FUNCIÓN PARA LIMPIAR LAS COLUMNAS SPECIES, HOUSE, HAIR_COLOUR Y EYE_COLOUR\n",
    "df_copy = fc.map_dataframe(df_copy)"
   ]
  },
  {
   "cell_type": "markdown",
   "metadata": {},
   "source": [
    "Ahora reemplazamos los NaN de las columnas House, Eye colour y Hair colour\n"
   ]
  },
  {
   "cell_type": "code",
   "execution_count": 14,
   "metadata": {},
   "outputs": [],
   "source": [
    "# REEMPLAZAMOS LOS VALORES FALTANTES DE LA COLUMNA HOUSE CON \"UNKNOWN\"\n",
    "df_copy[\"House\"] = df_copy[\"House\"].fillna(\"Unknown\")"
   ]
  },
  {
   "cell_type": "code",
   "execution_count": 15,
   "metadata": {},
   "outputs": [],
   "source": [
    "# REEMPLAZAMOS LOS VALORES FALTANTES DE LA COLUMNA EYE COLOUR CON \"UNKNOWN\"\n",
    "df_copy[\"Eye colour\"] = df_copy[\"Eye colour\"].fillna(\"Unknown\")"
   ]
  },
  {
   "cell_type": "code",
   "execution_count": 16,
   "metadata": {},
   "outputs": [],
   "source": [
    "# REEMPLAZAMOS LOS VALORES FALTANTES DE LA COLUMNA HAIR COLOUR CON \"UNKNOWN\"\n",
    "df_copy[\"Hair colour\"] = df_copy[\"Hair colour\"].fillna(\"Unknown\")"
   ]
  },
  {
   "cell_type": "code",
   "execution_count": 17,
   "metadata": {},
   "outputs": [
    {
     "name": "stdout",
     "output_type": "stream",
     "text": [
      "Antes de limpiar:\n",
      "House           6\n",
      "Species        10\n",
      "Hair colour    36\n",
      "Eye colour     25\n",
      "dtype: int64\n",
      "\n",
      "\n",
      " Después de limpiar:\n",
      "House           7\n",
      "Species         6\n",
      "Hair colour    10\n",
      "Eye colour      8\n",
      "dtype: int64\n"
     ]
    }
   ],
   "source": [
    "# MOSTRAMOS LOS VALORES ÚNICOS ANTES Y DESPUÉS DE LIMPIAR\n",
    "print(\"Antes de limpiar:\")\n",
    "print(df_orig[[\"House\", \"Species\", \"Hair colour\", \"Eye colour\"]].nunique())\n",
    "\n",
    "print(\"\\n\\n\", \"Después de limpiar:\")\n",
    "print(df_copy[[\"House\", \"Species\", \"Hair colour\", \"Eye colour\"]].nunique())"
   ]
  },
  {
   "cell_type": "code",
   "execution_count": 18,
   "metadata": {},
   "outputs": [
    {
     "name": "stdout",
     "output_type": "stream",
     "text": [
      "<class 'pandas.core.frame.DataFrame'>\n",
      "RangeIndex: 140 entries, 0 to 139\n",
      "Data columns (total 9 columns):\n",
      " #   Column        Non-Null Count  Dtype \n",
      "---  ------        --------------  ----- \n",
      " 0   Id            140 non-null    int64 \n",
      " 1   Name          140 non-null    object\n",
      " 2   Gender        139 non-null    object\n",
      " 3   House         140 non-null    object\n",
      " 4   Species       140 non-null    object\n",
      " 5   Blood status  123 non-null    object\n",
      " 6   Hair colour   140 non-null    object\n",
      " 7   Eye colour    140 non-null    object\n",
      " 8   Loyalty       89 non-null     object\n",
      "dtypes: int64(1), object(8)\n",
      "memory usage: 10.0+ KB\n"
     ]
    }
   ],
   "source": [
    "df_copy.info()"
   ]
  },
  {
   "cell_type": "markdown",
   "metadata": {},
   "source": [
    "Ahora obtenemos los valores absolutos y relativos de estas 4 columnas limpiadas"
   ]
  },
  {
   "cell_type": "code",
   "execution_count": 19,
   "metadata": {},
   "outputs": [],
   "source": [
    "abs_values_house = df_copy['House'].value_counts()\n",
    "rel_values_house = df_copy['House'].value_counts(normalize = True)\n",
    "\n",
    "abs_values_species = df_copy['Species'].value_counts()\n",
    "rel_values_species = df_copy['Species'].value_counts(normalize = True)\n",
    "\n",
    "abs_values_eye_colour = df_copy['Eye colour'].value_counts()\n",
    "rel_values_eye_colour = df_copy['Eye colour'].value_counts(normalize = True)\n",
    "\n",
    "abs_values__hair_colour = df_copy['Hair colour'].value_counts()\n",
    "rel_values__hair_colour = df_copy['Hair colour'].value_counts(normalize = True)"
   ]
  },
  {
   "cell_type": "code",
   "execution_count": 20,
   "metadata": {},
   "outputs": [
    {
     "name": "stdout",
     "output_type": "stream",
     "text": [
      "House\n",
      "Unknown        39\n",
      "Gryffindor     38\n",
      "Slytherin      28\n",
      "Ravenclaw      18\n",
      "Hufflepuff     13\n",
      "Beauxbatons     3\n",
      "Durmstrang      1\n",
      "Name: count, dtype: int64\n",
      "House\n",
      "Unknown        0.278571\n",
      "Gryffindor     0.271429\n",
      "Slytherin      0.200000\n",
      "Ravenclaw      0.128571\n",
      "Hufflepuff     0.092857\n",
      "Beauxbatons    0.021429\n",
      "Durmstrang     0.007143\n",
      "Name: proportion, dtype: float64\n"
     ]
    }
   ],
   "source": [
    "print(abs_values_house)\n",
    "print(rel_values_house)"
   ]
  },
  {
   "cell_type": "code",
   "execution_count": 21,
   "metadata": {},
   "outputs": [
    {
     "name": "stdout",
     "output_type": "stream",
     "text": [
      "Species\n",
      "Human         106\n",
      "Unknown        23\n",
      "Ghost           6\n",
      "Half-Human      2\n",
      "Werewolf        2\n",
      "Centaur         1\n",
      "Name: count, dtype: int64\n",
      "Species\n",
      "Human         0.757143\n",
      "Unknown       0.164286\n",
      "Ghost         0.042857\n",
      "Half-Human    0.014286\n",
      "Werewolf      0.014286\n",
      "Centaur       0.007143\n",
      "Name: proportion, dtype: float64\n"
     ]
    }
   ],
   "source": [
    "print(abs_values_species)\n",
    "print(rel_values_species)"
   ]
  },
  {
   "cell_type": "code",
   "execution_count": 22,
   "metadata": {},
   "outputs": [
    {
     "name": "stdout",
     "output_type": "stream",
     "text": [
      "Eye colour\n",
      "Unknown    68\n",
      "Brown      29\n",
      "Grey       14\n",
      "Blue       13\n",
      "Green       7\n",
      "Black       7\n",
      "Hazel       1\n",
      "Yellow      1\n",
      "Name: count, dtype: int64\n",
      "Eye colour\n",
      "Unknown    0.485714\n",
      "Brown      0.207143\n",
      "Grey       0.100000\n",
      "Blue       0.092857\n",
      "Green      0.050000\n",
      "Black      0.050000\n",
      "Hazel      0.007143\n",
      "Yellow     0.007143\n",
      "Name: proportion, dtype: float64\n"
     ]
    }
   ],
   "source": [
    "print(abs_values_eye_colour)\n",
    "print(rel_values_eye_colour)"
   ]
  },
  {
   "cell_type": "code",
   "execution_count": 23,
   "metadata": {},
   "outputs": [
    {
     "name": "stdout",
     "output_type": "stream",
     "text": [
      "Hair colour\n",
      "Unknown    54\n",
      "Black      26\n",
      "Brown      22\n",
      "Red        14\n",
      "Grey       11\n",
      "Blond       8\n",
      "White       2\n",
      "Silver      1\n",
      "Auburn      1\n",
      "Bald        1\n",
      "Name: count, dtype: int64\n",
      "Hair colour\n",
      "Unknown    0.385714\n",
      "Black      0.185714\n",
      "Brown      0.157143\n",
      "Red        0.100000\n",
      "Grey       0.078571\n",
      "Blond      0.057143\n",
      "White      0.014286\n",
      "Silver     0.007143\n",
      "Auburn     0.007143\n",
      "Bald       0.007143\n",
      "Name: proportion, dtype: float64\n"
     ]
    }
   ],
   "source": [
    "print(abs_values__hair_colour)\n",
    "print(rel_values__hair_colour)"
   ]
  },
  {
   "cell_type": "markdown",
   "metadata": {},
   "source": [
    "A continuación limpiamos la columna Blood Status. Empezamos haciendo el value_counts( )"
   ]
  },
  {
   "cell_type": "code",
   "execution_count": 24,
   "metadata": {},
   "outputs": [
    {
     "data": {
      "text/plain": [
       "Blood status\n",
       "Pure-blood or half-blood      38\n",
       "Pure-blood                    34\n",
       "Half-blood                    23\n",
       "NaN                           17\n",
       "Muggle-born                    7\n",
       "Pure-blood or Half-blood       5\n",
       "Muggle                         4\n",
       "Part-Human (Half-giant)        2\n",
       "Pure-blood or half-blood       2\n",
       "Quarter-Veela                  2\n",
       "Half-blood or pure-blood       1\n",
       "Unknown                        1\n",
       "Part-Goblin                    1\n",
       "Muggle-born or half-blood[     1\n",
       "Half-blood[                    1\n",
       "Squib                          1\n",
       "Name: count, dtype: int64"
      ]
     },
     "execution_count": 24,
     "metadata": {},
     "output_type": "execute_result"
    }
   ],
   "source": [
    "df_copy[\"Blood status\"].value_counts(dropna = False)"
   ]
  },
  {
   "cell_type": "code",
   "execution_count": 25,
   "metadata": {},
   "outputs": [],
   "source": [
    "# APLICAMOS UNA FUNCIÓN QUE AGREGA LOS VALORES \n",
    "\n",
    "df_copy['Blood status'] = fc.limpiar_agrupacion_blood_status(df_copy['Blood status'])"
   ]
  },
  {
   "cell_type": "markdown",
   "metadata": {},
   "source": [
    "Mostramos los valores después de esta limpieza"
   ]
  },
  {
   "cell_type": "code",
   "execution_count": 26,
   "metadata": {},
   "outputs": [
    {
     "data": {
      "text/plain": [
       "Blood status\n",
       "Others        53\n",
       "Pure-blood    34\n",
       "Half-blood    24\n",
       "NaN           17\n",
       "Muggle        12\n",
       "Name: count, dtype: int64"
      ]
     },
     "execution_count": 26,
     "metadata": {},
     "output_type": "execute_result"
    }
   ],
   "source": [
    "df_copy[\"Blood status\"].value_counts(dropna = False)"
   ]
  },
  {
   "cell_type": "markdown",
   "metadata": {},
   "source": [
    "Ahora terminamos de limpiarla sustiyendo los NaN por \"Others\""
   ]
  },
  {
   "cell_type": "code",
   "execution_count": 27,
   "metadata": {},
   "outputs": [],
   "source": [
    "df_copy[\"Blood status\"] = df_copy[\"Blood status\"].fillna(\"Others\")"
   ]
  },
  {
   "cell_type": "code",
   "execution_count": 28,
   "metadata": {},
   "outputs": [
    {
     "data": {
      "text/plain": [
       "Blood status\n",
       "Others        70\n",
       "Pure-blood    34\n",
       "Half-blood    24\n",
       "Muggle        12\n",
       "Name: count, dtype: int64"
      ]
     },
     "execution_count": 28,
     "metadata": {},
     "output_type": "execute_result"
    }
   ],
   "source": [
    "# COMPROBAMOS COMO QUEDA LA COLUMNA\n",
    "df_copy[\"Blood status\"].value_counts()"
   ]
  },
  {
   "cell_type": "markdown",
   "metadata": {},
   "source": [
    "Obtenemos sus valores absolutos y relativos"
   ]
  },
  {
   "cell_type": "code",
   "execution_count": 29,
   "metadata": {},
   "outputs": [],
   "source": [
    "abs_values_blood = df_copy['Blood status'].value_counts()\n",
    "rel_values_blood = df_copy['Blood status'].value_counts(normalize = True)"
   ]
  },
  {
   "cell_type": "code",
   "execution_count": 30,
   "metadata": {},
   "outputs": [
    {
     "name": "stdout",
     "output_type": "stream",
     "text": [
      "Blood status\n",
      "Others        70\n",
      "Pure-blood    34\n",
      "Half-blood    24\n",
      "Muggle        12\n",
      "Name: count, dtype: int64\n",
      "\n",
      "\n",
      " Blood status\n",
      "Others        0.500000\n",
      "Pure-blood    0.242857\n",
      "Half-blood    0.171429\n",
      "Muggle        0.085714\n",
      "Name: proportion, dtype: float64\n"
     ]
    }
   ],
   "source": [
    "print(abs_values_blood)\n",
    "print(\"\\n\\n\",rel_values_blood)"
   ]
  },
  {
   "cell_type": "markdown",
   "metadata": {},
   "source": [
    "Ahora limpiamos la columna Gender que sólo tiene un valor faltante"
   ]
  },
  {
   "cell_type": "code",
   "execution_count": 31,
   "metadata": {},
   "outputs": [
    {
     "data": {
      "text/plain": [
       "Gender\n",
       "Male      90\n",
       "Female    49\n",
       "NaN        1\n",
       "Name: count, dtype: int64"
      ]
     },
     "execution_count": 31,
     "metadata": {},
     "output_type": "execute_result"
    }
   ],
   "source": [
    "df_copy[\"Gender\"].value_counts(dropna = False)"
   ]
  },
  {
   "cell_type": "markdown",
   "metadata": {},
   "source": [
    "Cómo sólo hay un valor faltante, voy a sustituirlo con la Moda"
   ]
  },
  {
   "cell_type": "code",
   "execution_count": 32,
   "metadata": {},
   "outputs": [],
   "source": [
    "df_copy[\"Gender\"] = df_copy[\"Gender\"].fillna(df_copy[\"Gender\"].mode()[0])"
   ]
  },
  {
   "cell_type": "code",
   "execution_count": 33,
   "metadata": {},
   "outputs": [
    {
     "data": {
      "text/plain": [
       "Gender\n",
       "Male      91\n",
       "Female    49\n",
       "Name: count, dtype: int64"
      ]
     },
     "execution_count": 33,
     "metadata": {},
     "output_type": "execute_result"
    }
   ],
   "source": [
    "# COMPROBAMOS COMO QUEDA LA COLUMNA\n",
    "df_copy[\"Gender\"].value_counts()"
   ]
  },
  {
   "cell_type": "markdown",
   "metadata": {},
   "source": [
    "Ahora obtenemos sus valores absolutos y relativos"
   ]
  },
  {
   "cell_type": "code",
   "execution_count": 34,
   "metadata": {},
   "outputs": [],
   "source": [
    "abs_values_gen = df_copy['Gender'].value_counts()\n",
    "rel_values_gen = df_copy['Gender'].value_counts(normalize = True)"
   ]
  },
  {
   "cell_type": "code",
   "execution_count": 35,
   "metadata": {},
   "outputs": [
    {
     "name": "stdout",
     "output_type": "stream",
     "text": [
      "Gender\n",
      "Male      91\n",
      "Female    49\n",
      "Name: count, dtype: int64\n",
      "\n",
      "\n",
      " Gender\n",
      "Male      0.65\n",
      "Female    0.35\n",
      "Name: proportion, dtype: float64\n"
     ]
    }
   ],
   "source": [
    "print(abs_values_gen)\n",
    "print(\"\\n\\n\",rel_values_gen)"
   ]
  },
  {
   "cell_type": "markdown",
   "metadata": {},
   "source": [
    "Antes de limpiar la última columna, vamos a mostrar cómo ha quedado la estructura del DF hasta ahora con el método .info( )"
   ]
  },
  {
   "cell_type": "code",
   "execution_count": null,
   "metadata": {},
   "outputs": [
    {
     "name": "stdout",
     "output_type": "stream",
     "text": [
      "<class 'pandas.core.frame.DataFrame'>\n",
      "RangeIndex: 140 entries, 0 to 139\n",
      "Data columns (total 9 columns):\n",
      " #   Column        Non-Null Count  Dtype \n",
      "---  ------        --------------  ----- \n",
      " 0   Id            140 non-null    int64 \n",
      " 1   Name          140 non-null    object\n",
      " 2   Gender        140 non-null    object\n",
      " 3   House         140 non-null    object\n",
      " 4   Species       140 non-null    object\n",
      " 5   Blood status  140 non-null    object\n",
      " 6   Hair colour   140 non-null    object\n",
      " 7   Eye colour    140 non-null    object\n",
      " 8   Loyalty       89 non-null     object\n",
      "dtypes: int64(1), object(8)\n",
      "memory usage: 10.0+ KB\n"
     ]
    }
   ],
   "source": [
    "df_copy.info()"
   ]
  },
  {
   "cell_type": "markdown",
   "metadata": {},
   "source": [
    "Por último, limpiamos la columna Loyalty. Para esta columna si vamos a limpiar los NaN directamente dado que es más cómodo y manejable así"
   ]
  },
  {
   "cell_type": "markdown",
   "metadata": {},
   "source": [
    "Primero vamos a hacer un value_counts( ) para ver la distribución de esta columna"
   ]
  },
  {
   "cell_type": "code",
   "execution_count": 37,
   "metadata": {},
   "outputs": [
    {
     "data": {
      "text/plain": [
       "Loyalty\n",
       "NaN                                                                                                         51\n",
       "Order of the Phoenix                                                                                        16\n",
       "Dumbledore's Army |Hogwarts School of Witchcraft and Wizardry                                               14\n",
       "Lord Voldemort  | Death Eaters                                                                              12\n",
       "Original Order of the Phoenix                                                                                8\n",
       "Hogwarts School of Witchcraft and Wizardry                                                                   8\n",
       "Dumbledore's Army | Order of the Phoenix | Hogwarts School of Witchcraft and Wizardry                        8\n",
       "Dumbledore's Army                                                                                            6\n",
       "Minister of Magic                                                                                            4\n",
       "Albus Dumbledore | Order of the Phoenix | Hogwarts School of Witchcraft and Wizardry                         2\n",
       "Dumbledore's Army | Hogwarts School of Witchcraft and Wizardry                                               2\n",
       "Albus Dumbledore | Dumbledore's Army | Order of the Phoenix | Hogwarts School of Witchcraft and Wizardry     1\n",
       "Ministry of Magic                                                                                            1\n",
       "Ministry of Magic | Order of the Phoenix                                                                     1\n",
       "Order of the Phoenix| British Ministry of Magic                                                              1\n",
       "Lord Voldemort                                                                                               1\n",
       "Order of the Phoenix | Gringotts Wizarding Bank                                                              1\n",
       "Order of the Phoenix| Hogwarts School of Witchcraft and Wizardry |British Ministry of Magic                  1\n",
       "Lord Voldemort| Death Eaters                                                                                 1\n",
       "Gellert Grindelwald's Acolytes                                                                               1\n",
       "Name: count, dtype: int64"
      ]
     },
     "execution_count": 37,
     "metadata": {},
     "output_type": "execute_result"
    }
   ],
   "source": [
    "df_copy[\"Loyalty\"].value_counts(dropna = False)"
   ]
  },
  {
   "cell_type": "markdown",
   "metadata": {},
   "source": [
    "Aplicamos la función de categorize_loyalty( ) a la columna 'Loyalty'"
   ]
  },
  {
   "cell_type": "code",
   "execution_count": 38,
   "metadata": {},
   "outputs": [],
   "source": [
    "# ESTA FUNCION REEAGRUPA LOS VALORES DE LA COLUMNA LOYALTY EXCEPTO LOS NAN \n",
    "df_copy[\"Loyalty\"] = df_copy['Loyalty'].apply(lambda x: fc.categorize_loyalty(x, fc.loyalty_mapping))\n"
   ]
  },
  {
   "cell_type": "code",
   "execution_count": 39,
   "metadata": {},
   "outputs": [
    {
     "data": {
      "text/plain": [
       "Loyalty\n",
       "[Unknown]                                    51\n",
       "[Hogwarts]                                   30\n",
       "[Order of the Phoenix]                       24\n",
       "[Death Eaters]                               14\n",
       "[Hogwarts, Order of the Phoenix]             11\n",
       "[Others]                                      5\n",
       "[Order of the Phoenix, Others]                2\n",
       "[Hogwarts, Order of the Phoenix, Others]      1\n",
       "[Ministry of Magic]                           1\n",
       "[Ministry of Magic, Order of the Phoenix]     1\n",
       "Name: count, dtype: int64"
      ]
     },
     "execution_count": 39,
     "metadata": {},
     "output_type": "execute_result"
    }
   ],
   "source": [
    "# COMPROBAMOS COMO QUEDA LA COLUMNA\n",
    "df_copy[\"Loyalty\"].value_counts()"
   ]
  },
  {
   "cell_type": "markdown",
   "metadata": {},
   "source": [
    "Obtenemos los valores absolutos y relativos"
   ]
  },
  {
   "cell_type": "code",
   "execution_count": 40,
   "metadata": {},
   "outputs": [],
   "source": [
    "abs_values_loyal = df_copy['Loyalty'].value_counts()\n",
    "rel_values_loyal = df_copy['Loyalty'].value_counts(normalize = True)"
   ]
  },
  {
   "cell_type": "code",
   "execution_count": 41,
   "metadata": {},
   "outputs": [
    {
     "name": "stdout",
     "output_type": "stream",
     "text": [
      "Loyalty\n",
      "[Unknown]                                    51\n",
      "[Hogwarts]                                   30\n",
      "[Order of the Phoenix]                       24\n",
      "[Death Eaters]                               14\n",
      "[Hogwarts, Order of the Phoenix]             11\n",
      "[Others]                                      5\n",
      "[Order of the Phoenix, Others]                2\n",
      "[Hogwarts, Order of the Phoenix, Others]      1\n",
      "[Ministry of Magic]                           1\n",
      "[Ministry of Magic, Order of the Phoenix]     1\n",
      "Name: count, dtype: int64\n",
      "\n",
      "\n",
      " Loyalty\n",
      "[Unknown]                                    0.364286\n",
      "[Hogwarts]                                   0.214286\n",
      "[Order of the Phoenix]                       0.171429\n",
      "[Death Eaters]                               0.100000\n",
      "[Hogwarts, Order of the Phoenix]             0.078571\n",
      "[Others]                                     0.035714\n",
      "[Order of the Phoenix, Others]               0.014286\n",
      "[Hogwarts, Order of the Phoenix, Others]     0.007143\n",
      "[Ministry of Magic]                          0.007143\n",
      "[Ministry of Magic, Order of the Phoenix]    0.007143\n",
      "Name: proportion, dtype: float64\n"
     ]
    }
   ],
   "source": [
    "print(abs_values_loyal)\n",
    "print(\"\\n\\n\",rel_values_loyal)"
   ]
  },
  {
   "cell_type": "markdown",
   "metadata": {},
   "source": [
    "Dado que hemos transformado la columna a listas de valores(string), vamos a mostrar la proporción de personas que son leales a 1 sólo grupo y la proporción de las personas que son leales a 2 o más. Podría ser interesante el dato"
   ]
  },
  {
   "cell_type": "code",
   "execution_count": 42,
   "metadata": {},
   "outputs": [
    {
     "data": {
      "text/plain": [
       "125"
      ]
     },
     "execution_count": 42,
     "metadata": {},
     "output_type": "execute_result"
    }
   ],
   "source": [
    "one_loyalty = (df_copy[\"Loyalty\"].apply(len) == 1).value_counts().iloc[0]\n",
    "one_loyalty"
   ]
  },
  {
   "cell_type": "code",
   "execution_count": 43,
   "metadata": {},
   "outputs": [
    {
     "data": {
      "text/plain": [
       "15"
      ]
     },
     "execution_count": 43,
     "metadata": {},
     "output_type": "execute_result"
    }
   ],
   "source": [
    "several_loyalty = (df_copy[\"Loyalty\"].apply(len) > 1).value_counts().iloc[1]\n",
    "several_loyalty"
   ]
  },
  {
   "cell_type": "markdown",
   "metadata": {},
   "source": [
    "Hay 125 personajes que sólo son leales a un único grupo y 15 personajes que son leales a varios."
   ]
  },
  {
   "cell_type": "markdown",
   "metadata": {},
   "source": [
    "Cómo la columna 'Loyalty' contiene listas de valores, vamos a aplicar el método explode( ) para poder visualizar las posibles relaciones de esa columna con otras."
   ]
  },
  {
   "cell_type": "code",
   "execution_count": 44,
   "metadata": {},
   "outputs": [],
   "source": [
    "# TRANSFORMAMOS LAS LISTAS DE LOS VALORES DE LA COLUMNA LOYALTY EN FILAS INDEPENDIENTES\n",
    "df_copy_exploded = df_copy.explode(\"Loyalty\", ignore_index = True)"
   ]
  },
  {
   "cell_type": "code",
   "execution_count": 45,
   "metadata": {},
   "outputs": [
    {
     "name": "stdout",
     "output_type": "stream",
     "text": [
      "<class 'pandas.core.frame.DataFrame'>\n",
      "RangeIndex: 156 entries, 0 to 155\n",
      "Data columns (total 9 columns):\n",
      " #   Column        Non-Null Count  Dtype \n",
      "---  ------        --------------  ----- \n",
      " 0   Id            156 non-null    int64 \n",
      " 1   Name          156 non-null    object\n",
      " 2   Gender        156 non-null    object\n",
      " 3   House         156 non-null    object\n",
      " 4   Species       156 non-null    object\n",
      " 5   Blood status  156 non-null    object\n",
      " 6   Hair colour   156 non-null    object\n",
      " 7   Eye colour    156 non-null    object\n",
      " 8   Loyalty       156 non-null    object\n",
      "dtypes: int64(1), object(8)\n",
      "memory usage: 11.1+ KB\n"
     ]
    }
   ],
   "source": [
    "df_copy_exploded.info()"
   ]
  },
  {
   "cell_type": "code",
   "execution_count": 46,
   "metadata": {},
   "outputs": [
    {
     "data": {
      "text/html": [
       "<div>\n",
       "<style scoped>\n",
       "    .dataframe tbody tr th:only-of-type {\n",
       "        vertical-align: middle;\n",
       "    }\n",
       "\n",
       "    .dataframe tbody tr th {\n",
       "        vertical-align: top;\n",
       "    }\n",
       "\n",
       "    .dataframe thead th {\n",
       "        text-align: right;\n",
       "    }\n",
       "</style>\n",
       "<table border=\"1\" class=\"dataframe\">\n",
       "  <thead>\n",
       "    <tr style=\"text-align: right;\">\n",
       "      <th></th>\n",
       "      <th>Id</th>\n",
       "      <th>Name</th>\n",
       "      <th>Gender</th>\n",
       "      <th>House</th>\n",
       "      <th>Species</th>\n",
       "      <th>Blood status</th>\n",
       "      <th>Hair colour</th>\n",
       "      <th>Eye colour</th>\n",
       "      <th>Loyalty</th>\n",
       "    </tr>\n",
       "  </thead>\n",
       "  <tbody>\n",
       "    <tr>\n",
       "      <th>0</th>\n",
       "      <td>1</td>\n",
       "      <td>Harry James Potter</td>\n",
       "      <td>Male</td>\n",
       "      <td>Gryffindor</td>\n",
       "      <td>Human</td>\n",
       "      <td>Half-blood</td>\n",
       "      <td>Black</td>\n",
       "      <td>Green</td>\n",
       "      <td>Hogwarts</td>\n",
       "    </tr>\n",
       "    <tr>\n",
       "      <th>1</th>\n",
       "      <td>1</td>\n",
       "      <td>Harry James Potter</td>\n",
       "      <td>Male</td>\n",
       "      <td>Gryffindor</td>\n",
       "      <td>Human</td>\n",
       "      <td>Half-blood</td>\n",
       "      <td>Black</td>\n",
       "      <td>Green</td>\n",
       "      <td>Order of the Phoenix</td>\n",
       "    </tr>\n",
       "    <tr>\n",
       "      <th>2</th>\n",
       "      <td>2</td>\n",
       "      <td>Ronald Bilius Weasley</td>\n",
       "      <td>Male</td>\n",
       "      <td>Gryffindor</td>\n",
       "      <td>Human</td>\n",
       "      <td>Pure-blood</td>\n",
       "      <td>Red</td>\n",
       "      <td>Blue</td>\n",
       "      <td>Hogwarts</td>\n",
       "    </tr>\n",
       "    <tr>\n",
       "      <th>3</th>\n",
       "      <td>2</td>\n",
       "      <td>Ronald Bilius Weasley</td>\n",
       "      <td>Male</td>\n",
       "      <td>Gryffindor</td>\n",
       "      <td>Human</td>\n",
       "      <td>Pure-blood</td>\n",
       "      <td>Red</td>\n",
       "      <td>Blue</td>\n",
       "      <td>Order of the Phoenix</td>\n",
       "    </tr>\n",
       "    <tr>\n",
       "      <th>4</th>\n",
       "      <td>3</td>\n",
       "      <td>Hermione Jean Granger</td>\n",
       "      <td>Female</td>\n",
       "      <td>Gryffindor</td>\n",
       "      <td>Human</td>\n",
       "      <td>Muggle</td>\n",
       "      <td>Brown</td>\n",
       "      <td>Brown</td>\n",
       "      <td>Hogwarts</td>\n",
       "    </tr>\n",
       "    <tr>\n",
       "      <th>5</th>\n",
       "      <td>3</td>\n",
       "      <td>Hermione Jean Granger</td>\n",
       "      <td>Female</td>\n",
       "      <td>Gryffindor</td>\n",
       "      <td>Human</td>\n",
       "      <td>Muggle</td>\n",
       "      <td>Brown</td>\n",
       "      <td>Brown</td>\n",
       "      <td>Order of the Phoenix</td>\n",
       "    </tr>\n",
       "    <tr>\n",
       "      <th>6</th>\n",
       "      <td>4</td>\n",
       "      <td>Albus Percival Wulfric Brian Dumbledore</td>\n",
       "      <td>Male</td>\n",
       "      <td>Gryffindor</td>\n",
       "      <td>Human</td>\n",
       "      <td>Half-blood</td>\n",
       "      <td>Silver</td>\n",
       "      <td>Blue</td>\n",
       "      <td>Hogwarts</td>\n",
       "    </tr>\n",
       "    <tr>\n",
       "      <th>7</th>\n",
       "      <td>4</td>\n",
       "      <td>Albus Percival Wulfric Brian Dumbledore</td>\n",
       "      <td>Male</td>\n",
       "      <td>Gryffindor</td>\n",
       "      <td>Human</td>\n",
       "      <td>Half-blood</td>\n",
       "      <td>Silver</td>\n",
       "      <td>Blue</td>\n",
       "      <td>Order of the Phoenix</td>\n",
       "    </tr>\n",
       "    <tr>\n",
       "      <th>8</th>\n",
       "      <td>5</td>\n",
       "      <td>Rubeus Hagrid</td>\n",
       "      <td>Male</td>\n",
       "      <td>Gryffindor</td>\n",
       "      <td>Half-Human</td>\n",
       "      <td>Others</td>\n",
       "      <td>Black</td>\n",
       "      <td>Black</td>\n",
       "      <td>Hogwarts</td>\n",
       "    </tr>\n",
       "    <tr>\n",
       "      <th>9</th>\n",
       "      <td>5</td>\n",
       "      <td>Rubeus Hagrid</td>\n",
       "      <td>Male</td>\n",
       "      <td>Gryffindor</td>\n",
       "      <td>Half-Human</td>\n",
       "      <td>Others</td>\n",
       "      <td>Black</td>\n",
       "      <td>Black</td>\n",
       "      <td>Order of the Phoenix</td>\n",
       "    </tr>\n",
       "  </tbody>\n",
       "</table>\n",
       "</div>"
      ],
      "text/plain": [
       "   Id                                     Name  Gender       House  \\\n",
       "0   1                       Harry James Potter    Male  Gryffindor   \n",
       "1   1                       Harry James Potter    Male  Gryffindor   \n",
       "2   2                    Ronald Bilius Weasley    Male  Gryffindor   \n",
       "3   2                    Ronald Bilius Weasley    Male  Gryffindor   \n",
       "4   3                    Hermione Jean Granger  Female  Gryffindor   \n",
       "5   3                    Hermione Jean Granger  Female  Gryffindor   \n",
       "6   4  Albus Percival Wulfric Brian Dumbledore    Male  Gryffindor   \n",
       "7   4  Albus Percival Wulfric Brian Dumbledore    Male  Gryffindor   \n",
       "8   5                            Rubeus Hagrid    Male  Gryffindor   \n",
       "9   5                            Rubeus Hagrid    Male  Gryffindor   \n",
       "\n",
       "      Species Blood status Hair colour Eye colour               Loyalty  \n",
       "0       Human   Half-blood       Black      Green              Hogwarts  \n",
       "1       Human   Half-blood       Black      Green  Order of the Phoenix  \n",
       "2       Human   Pure-blood         Red       Blue              Hogwarts  \n",
       "3       Human   Pure-blood         Red       Blue  Order of the Phoenix  \n",
       "4       Human       Muggle       Brown      Brown              Hogwarts  \n",
       "5       Human       Muggle       Brown      Brown  Order of the Phoenix  \n",
       "6       Human   Half-blood      Silver       Blue              Hogwarts  \n",
       "7       Human   Half-blood      Silver       Blue  Order of the Phoenix  \n",
       "8  Half-Human       Others       Black      Black              Hogwarts  \n",
       "9  Half-Human       Others       Black      Black  Order of the Phoenix  "
      ]
     },
     "execution_count": 46,
     "metadata": {},
     "output_type": "execute_result"
    }
   ],
   "source": [
    "df_copy_exploded.head(10)"
   ]
  },
  {
   "cell_type": "code",
   "execution_count": 47,
   "metadata": {},
   "outputs": [],
   "source": [
    "# ESTABLECEMOS EL ID COMO INDICE\n",
    "# !OJO! CÓMO HEMOS HECHO EXPLODE AHORA HAY IDS REPETIDOS, POR LO QUE HAY 156 FILAS PERO 140 IDS ÚNICOS\n",
    "df_copy_exploded = df_copy_exploded.set_index(\"Id\")"
   ]
  },
  {
   "cell_type": "code",
   "execution_count": 48,
   "metadata": {},
   "outputs": [
    {
     "data": {
      "text/html": [
       "<div>\n",
       "<style scoped>\n",
       "    .dataframe tbody tr th:only-of-type {\n",
       "        vertical-align: middle;\n",
       "    }\n",
       "\n",
       "    .dataframe tbody tr th {\n",
       "        vertical-align: top;\n",
       "    }\n",
       "\n",
       "    .dataframe thead th {\n",
       "        text-align: right;\n",
       "    }\n",
       "</style>\n",
       "<table border=\"1\" class=\"dataframe\">\n",
       "  <thead>\n",
       "    <tr style=\"text-align: right;\">\n",
       "      <th></th>\n",
       "      <th>Name</th>\n",
       "      <th>Gender</th>\n",
       "      <th>House</th>\n",
       "      <th>Species</th>\n",
       "      <th>Blood status</th>\n",
       "      <th>Hair colour</th>\n",
       "      <th>Eye colour</th>\n",
       "      <th>Loyalty</th>\n",
       "    </tr>\n",
       "    <tr>\n",
       "      <th>Id</th>\n",
       "      <th></th>\n",
       "      <th></th>\n",
       "      <th></th>\n",
       "      <th></th>\n",
       "      <th></th>\n",
       "      <th></th>\n",
       "      <th></th>\n",
       "      <th></th>\n",
       "    </tr>\n",
       "  </thead>\n",
       "  <tbody>\n",
       "    <tr>\n",
       "      <th>1</th>\n",
       "      <td>Harry James Potter</td>\n",
       "      <td>Male</td>\n",
       "      <td>Gryffindor</td>\n",
       "      <td>Human</td>\n",
       "      <td>Half-blood</td>\n",
       "      <td>Black</td>\n",
       "      <td>Green</td>\n",
       "      <td>Hogwarts</td>\n",
       "    </tr>\n",
       "    <tr>\n",
       "      <th>1</th>\n",
       "      <td>Harry James Potter</td>\n",
       "      <td>Male</td>\n",
       "      <td>Gryffindor</td>\n",
       "      <td>Human</td>\n",
       "      <td>Half-blood</td>\n",
       "      <td>Black</td>\n",
       "      <td>Green</td>\n",
       "      <td>Order of the Phoenix</td>\n",
       "    </tr>\n",
       "    <tr>\n",
       "      <th>2</th>\n",
       "      <td>Ronald Bilius Weasley</td>\n",
       "      <td>Male</td>\n",
       "      <td>Gryffindor</td>\n",
       "      <td>Human</td>\n",
       "      <td>Pure-blood</td>\n",
       "      <td>Red</td>\n",
       "      <td>Blue</td>\n",
       "      <td>Hogwarts</td>\n",
       "    </tr>\n",
       "    <tr>\n",
       "      <th>2</th>\n",
       "      <td>Ronald Bilius Weasley</td>\n",
       "      <td>Male</td>\n",
       "      <td>Gryffindor</td>\n",
       "      <td>Human</td>\n",
       "      <td>Pure-blood</td>\n",
       "      <td>Red</td>\n",
       "      <td>Blue</td>\n",
       "      <td>Order of the Phoenix</td>\n",
       "    </tr>\n",
       "    <tr>\n",
       "      <th>3</th>\n",
       "      <td>Hermione Jean Granger</td>\n",
       "      <td>Female</td>\n",
       "      <td>Gryffindor</td>\n",
       "      <td>Human</td>\n",
       "      <td>Muggle</td>\n",
       "      <td>Brown</td>\n",
       "      <td>Brown</td>\n",
       "      <td>Hogwarts</td>\n",
       "    </tr>\n",
       "    <tr>\n",
       "      <th>3</th>\n",
       "      <td>Hermione Jean Granger</td>\n",
       "      <td>Female</td>\n",
       "      <td>Gryffindor</td>\n",
       "      <td>Human</td>\n",
       "      <td>Muggle</td>\n",
       "      <td>Brown</td>\n",
       "      <td>Brown</td>\n",
       "      <td>Order of the Phoenix</td>\n",
       "    </tr>\n",
       "    <tr>\n",
       "      <th>4</th>\n",
       "      <td>Albus Percival Wulfric Brian Dumbledore</td>\n",
       "      <td>Male</td>\n",
       "      <td>Gryffindor</td>\n",
       "      <td>Human</td>\n",
       "      <td>Half-blood</td>\n",
       "      <td>Silver</td>\n",
       "      <td>Blue</td>\n",
       "      <td>Hogwarts</td>\n",
       "    </tr>\n",
       "    <tr>\n",
       "      <th>4</th>\n",
       "      <td>Albus Percival Wulfric Brian Dumbledore</td>\n",
       "      <td>Male</td>\n",
       "      <td>Gryffindor</td>\n",
       "      <td>Human</td>\n",
       "      <td>Half-blood</td>\n",
       "      <td>Silver</td>\n",
       "      <td>Blue</td>\n",
       "      <td>Order of the Phoenix</td>\n",
       "    </tr>\n",
       "    <tr>\n",
       "      <th>5</th>\n",
       "      <td>Rubeus Hagrid</td>\n",
       "      <td>Male</td>\n",
       "      <td>Gryffindor</td>\n",
       "      <td>Half-Human</td>\n",
       "      <td>Others</td>\n",
       "      <td>Black</td>\n",
       "      <td>Black</td>\n",
       "      <td>Hogwarts</td>\n",
       "    </tr>\n",
       "    <tr>\n",
       "      <th>5</th>\n",
       "      <td>Rubeus Hagrid</td>\n",
       "      <td>Male</td>\n",
       "      <td>Gryffindor</td>\n",
       "      <td>Half-Human</td>\n",
       "      <td>Others</td>\n",
       "      <td>Black</td>\n",
       "      <td>Black</td>\n",
       "      <td>Order of the Phoenix</td>\n",
       "    </tr>\n",
       "  </tbody>\n",
       "</table>\n",
       "</div>"
      ],
      "text/plain": [
       "                                       Name  Gender       House     Species  \\\n",
       "Id                                                                            \n",
       "1                        Harry James Potter    Male  Gryffindor       Human   \n",
       "1                        Harry James Potter    Male  Gryffindor       Human   \n",
       "2                     Ronald Bilius Weasley    Male  Gryffindor       Human   \n",
       "2                     Ronald Bilius Weasley    Male  Gryffindor       Human   \n",
       "3                     Hermione Jean Granger  Female  Gryffindor       Human   \n",
       "3                     Hermione Jean Granger  Female  Gryffindor       Human   \n",
       "4   Albus Percival Wulfric Brian Dumbledore    Male  Gryffindor       Human   \n",
       "4   Albus Percival Wulfric Brian Dumbledore    Male  Gryffindor       Human   \n",
       "5                             Rubeus Hagrid    Male  Gryffindor  Half-Human   \n",
       "5                             Rubeus Hagrid    Male  Gryffindor  Half-Human   \n",
       "\n",
       "   Blood status Hair colour Eye colour               Loyalty  \n",
       "Id                                                            \n",
       "1    Half-blood       Black      Green              Hogwarts  \n",
       "1    Half-blood       Black      Green  Order of the Phoenix  \n",
       "2    Pure-blood         Red       Blue              Hogwarts  \n",
       "2    Pure-blood         Red       Blue  Order of the Phoenix  \n",
       "3        Muggle       Brown      Brown              Hogwarts  \n",
       "3        Muggle       Brown      Brown  Order of the Phoenix  \n",
       "4    Half-blood      Silver       Blue              Hogwarts  \n",
       "4    Half-blood      Silver       Blue  Order of the Phoenix  \n",
       "5        Others       Black      Black              Hogwarts  \n",
       "5        Others       Black      Black  Order of the Phoenix  "
      ]
     },
     "execution_count": 48,
     "metadata": {},
     "output_type": "execute_result"
    }
   ],
   "source": [
    "# MOSTRAMOS EL DF LUEGO DE ESTABLECER LA COLUMNA ID COMO INDICE\n",
    "df_copy_exploded.head(10)"
   ]
  },
  {
   "cell_type": "code",
   "execution_count": 49,
   "metadata": {},
   "outputs": [],
   "source": [
    "# POSIBLE CÓDIGO PARA VISUALIZAR LA COLUMNA 'LOYALTY' JUNTO A OTRAS\n",
    "#heatmap_data = df_exploded.value_counts(['Categoria1', 'Categoria2']).unstack(fill_value=0)\n",
    "\n",
    "#sns.heatmap(heatmap_data, annot=True, cmap=\"coolwarm\", cbar=True)\n",
    "#plt.title(\"Frecuencias entre categorías\")\n",
    "#plt.ylabel(\"Categoría 1\")\n",
    "#plt.xlabel(\"Categoría 2\")\n",
    "#plt.show()"
   ]
  },
  {
   "cell_type": "markdown",
   "metadata": {},
   "source": [
    "## Análisis de las variables "
   ]
  },
  {
   "cell_type": "markdown",
   "metadata": {},
   "source": [
    "### Análisis univariante"
   ]
  },
  {
   "cell_type": "markdown",
   "metadata": {},
   "source": [
    "**Gender**"
   ]
  },
  {
   "cell_type": "code",
   "execution_count": 50,
   "metadata": {},
   "outputs": [
    {
     "data": {
      "image/png": "[encoded data removed]",
      "text/plain": [
       "<Figure size 800x500 with 1 Axes>"
      ]
     },
     "metadata": {},
     "output_type": "display_data"
    }
   ],
   "source": [
    "fv.plot_one_variable_categorical(df_copy_exploded, \"Gender\", figsize = (8, 5), relative = True)"
   ]
  },
  {
   "cell_type": "markdown",
   "metadata": {},
   "source": [
    "+ La proporción de hombres representa el 60% contra el 40% de las mujeres."
   ]
  },
  {
   "cell_type": "markdown",
   "metadata": {},
   "source": [
    "**House**"
   ]
  },
  {
   "cell_type": "code",
   "execution_count": 51,
   "metadata": {},
   "outputs": [
    {
     "data": {
      "image/png": "[encoded data removed]",
      "text/plain": [
       "<Figure size 800x500 with 1 Axes>"
      ]
     },
     "metadata": {},
     "output_type": "display_data"
    }
   ],
   "source": [
    "fv.plot_one_variable_categorical(df_copy_exploded, \"House\", figsize = (8, 5), relative = True)"
   ]
  },
  {
   "cell_type": "markdown",
   "metadata": {},
   "source": [
    "+ Hay muchos personajes de los cuales no se conoce la casa a la que pertenecen.\n",
    "+ Las casas más representadas en este dataset son las de Gryffindor, con un 34% y la de Slytherin con un 17%"
   ]
  },
  {
   "cell_type": "markdown",
   "metadata": {},
   "source": [
    "**Species**"
   ]
  },
  {
   "cell_type": "code",
   "execution_count": 52,
   "metadata": {},
   "outputs": [
    {
     "data": {
      "image/png": "[encoded data removed]",
      "text/plain": [
       "<Figure size 800x500 with 1 Axes>"
      ]
     },
     "metadata": {},
     "output_type": "display_data"
    }
   ],
   "source": [
    "fv.plot_one_variable_categorical(df_copy_exploded, \"Species\", figsize = (8, 5), relative = True)"
   ]
  },
  {
   "cell_type": "markdown",
   "metadata": {},
   "source": [
    "+ La gran mayoría de personajes son humanos, casi un 80%."
   ]
  },
  {
   "cell_type": "markdown",
   "metadata": {},
   "source": [
    "**Blood status**"
   ]
  },
  {
   "cell_type": "code",
   "execution_count": 53,
   "metadata": {},
   "outputs": [
    {
     "data": {
      "image/png": "[encoded data removed]",
      "text/plain": [
       "<Figure size 800x500 with 1 Axes>"
      ]
     },
     "metadata": {},
     "output_type": "display_data"
    }
   ],
   "source": [
    "fv.plot_one_variable_categorical(df_copy_exploded, \"Blood status\", figsize = (8, 5), relative = True)"
   ]
  },
  {
   "cell_type": "markdown",
   "metadata": {},
   "source": [
    "+ Hay muchos personajes que no tienen un tipo de sangre en concreto definido, por eso se ha creado la categoría 'others'\n",
    "+ De los personajes que si se tiene información precisa se puede observar que la gran mayoría de ellos son de sangre pura, un 29%. Puede parecer lógico dado que hay magos que son cómo la nobleza con el pueblo, y creen que son superiores y no deberían mezclarse."
   ]
  },
  {
   "cell_type": "markdown",
   "metadata": {},
   "source": [
    "**Hair colour**"
   ]
  },
  {
   "cell_type": "code",
   "execution_count": 54,
   "metadata": {},
   "outputs": [
    {
     "data": {
      "image/png": "[encoded data removed]",
      "text/plain": [
       "<Figure size 800x500 with 1 Axes>"
      ]
     },
     "metadata": {},
     "output_type": "display_data"
    }
   ],
   "source": [
    "fv.plot_one_variable_categorical(df_copy_exploded, \"Hair colour\", figsize = (8, 5), relative = True)"
   ]
  },
  {
   "cell_type": "markdown",
   "metadata": {},
   "source": []
  },
  {
   "cell_type": "markdown",
   "metadata": {},
   "source": [
    "**Eye colour**"
   ]
  },
  {
   "cell_type": "code",
   "execution_count": 55,
   "metadata": {},
   "outputs": [
    {
     "data": {
      "image/png": "[encoded data removed]",
      "text/plain": [
       "<Figure size 800x500 with 1 Axes>"
      ]
     },
     "metadata": {},
     "output_type": "display_data"
    }
   ],
   "source": [
    "fv.plot_one_variable_categorical(df_copy_exploded, \"Eye colour\", figsize = (8, 5), relative = True)"
   ]
  },
  {
   "cell_type": "markdown",
   "metadata": {},
   "source": []
  },
  {
   "cell_type": "markdown",
   "metadata": {},
   "source": [
    "**Loyalty**"
   ]
  },
  {
   "cell_type": "code",
   "execution_count": 56,
   "metadata": {},
   "outputs": [
    {
     "data": {
      "image/png": "[encoded data removed]",
      "text/plain": [
       "<Figure size 800x500 with 1 Axes>"
      ]
     },
     "metadata": {},
     "output_type": "display_data"
    }
   ],
   "source": [
    "fv.plot_one_variable_categorical(df_copy_exploded, \"Loyalty\", figsize = (8, 5), relative = True)"
   ]
  },
  {
   "cell_type": "markdown",
   "metadata": {},
   "source": []
  },
  {
   "cell_type": "markdown",
   "metadata": {},
   "source": [
    "### Análisis bivariante"
   ]
  },
  {
   "cell_type": "markdown",
   "metadata": {},
   "source": []
  },
  {
   "cell_type": "markdown",
   "metadata": {},
   "source": [
    "### Análisis multivariante"
   ]
  },
  {
   "cell_type": "markdown",
   "metadata": {},
   "source": []
  }
 ],
 "metadata": {
  "kernelspec": {
   "display_name": "base",
   "language": "python",
   "name": "python3"
  },
  "language_info": {
   "codemirror_mode": {
    "name": "ipython",
    "version": 3
   },
   "file_extension": ".py",
   "mimetype": "text/x-python",
   "name": "python",
   "nbconvert_exporter": "python",
   "pygments_lexer": "ipython3",
   "version": "3.12.4"
  }
 },
 "nbformat": 4,
 "nbformat_minor": 2
}
