{
 "cells": [
  {
   "cell_type": "code",
   "execution_count": 1,
   "metadata": {},
   "outputs": [],
   "source": [
    "import pandas as pd\n",
    "from string import ascii_uppercase as alphabet # string que contiene el alfabeto\n",
    "import pickle\n",
    "from bs4 import BeautifulSoup\n",
    "import requests # para solicitar conexiones web\n",
    "from scipy.stats import poisson"
   ]
  },
  {
   "cell_type": "markdown",
   "metadata": {},
   "source": [
    "# Recolección de datos con BeautifulSoup"
   ]
  },
  {
   "cell_type": "code",
   "execution_count": 2,
   "metadata": {},
   "outputs": [],
   "source": [
    "all_tables = pd.read_html(\"https://web.archive.org/web/20221115040351/https://en.wikipedia.org/wiki/2022_FIFA_World_Cup#Group_stage\")"
   ]
  },
  {
   "cell_type": "code",
   "execution_count": 3,
   "metadata": {},
   "outputs": [
    {
     "data": {
      "text/html": [
       "<div>\n",
       "<style scoped>\n",
       "    .dataframe tbody tr th:only-of-type {\n",
       "        vertical-align: middle;\n",
       "    }\n",
       "\n",
       "    .dataframe tbody tr th {\n",
       "        vertical-align: top;\n",
       "    }\n",
       "\n",
       "    .dataframe thead th {\n",
       "        text-align: right;\n",
       "    }\n",
       "</style>\n",
       "<table border=\"1\" class=\"dataframe\">\n",
       "  <thead>\n",
       "    <tr style=\"text-align: right;\">\n",
       "      <th></th>\n",
       "      <th>Pos</th>\n",
       "      <th>Teamvte</th>\n",
       "      <th>Pld</th>\n",
       "      <th>W</th>\n",
       "      <th>D</th>\n",
       "      <th>L</th>\n",
       "      <th>GF</th>\n",
       "      <th>GA</th>\n",
       "      <th>GD</th>\n",
       "      <th>Pts</th>\n",
       "      <th>Qualification</th>\n",
       "    </tr>\n",
       "  </thead>\n",
       "  <tbody>\n",
       "    <tr>\n",
       "      <th>0</th>\n",
       "      <td>1</td>\n",
       "      <td>Qatar (H)</td>\n",
       "      <td>0</td>\n",
       "      <td>0</td>\n",
       "      <td>0</td>\n",
       "      <td>0</td>\n",
       "      <td>0</td>\n",
       "      <td>0</td>\n",
       "      <td>0</td>\n",
       "      <td>0</td>\n",
       "      <td>Advance to knockout stage</td>\n",
       "    </tr>\n",
       "    <tr>\n",
       "      <th>1</th>\n",
       "      <td>2</td>\n",
       "      <td>Ecuador</td>\n",
       "      <td>0</td>\n",
       "      <td>0</td>\n",
       "      <td>0</td>\n",
       "      <td>0</td>\n",
       "      <td>0</td>\n",
       "      <td>0</td>\n",
       "      <td>0</td>\n",
       "      <td>0</td>\n",
       "      <td>Advance to knockout stage</td>\n",
       "    </tr>\n",
       "    <tr>\n",
       "      <th>2</th>\n",
       "      <td>3</td>\n",
       "      <td>Senegal</td>\n",
       "      <td>0</td>\n",
       "      <td>0</td>\n",
       "      <td>0</td>\n",
       "      <td>0</td>\n",
       "      <td>0</td>\n",
       "      <td>0</td>\n",
       "      <td>0</td>\n",
       "      <td>0</td>\n",
       "      <td>NaN</td>\n",
       "    </tr>\n",
       "    <tr>\n",
       "      <th>3</th>\n",
       "      <td>4</td>\n",
       "      <td>Netherlands</td>\n",
       "      <td>0</td>\n",
       "      <td>0</td>\n",
       "      <td>0</td>\n",
       "      <td>0</td>\n",
       "      <td>0</td>\n",
       "      <td>0</td>\n",
       "      <td>0</td>\n",
       "      <td>0</td>\n",
       "      <td>NaN</td>\n",
       "    </tr>\n",
       "  </tbody>\n",
       "</table>\n",
       "</div>"
      ],
      "text/plain": [
       "   Pos      Teamvte  Pld  W  D  L  GF  GA  GD  Pts              Qualification\n",
       "0    1    Qatar (H)    0  0  0  0   0   0   0    0  Advance to knockout stage\n",
       "1    2      Ecuador    0  0  0  0   0   0   0    0  Advance to knockout stage\n",
       "2    3      Senegal    0  0  0  0   0   0   0    0                        NaN\n",
       "3    4  Netherlands    0  0  0  0   0   0   0    0                        NaN"
      ]
     },
     "execution_count": 3,
     "metadata": {},
     "output_type": "execute_result"
    }
   ],
   "source": [
    "# A --> H\n",
    "all_tables[12]"
   ]
  },
  {
   "cell_type": "code",
   "execution_count": 4,
   "metadata": {},
   "outputs": [
    {
     "name": "stdout",
     "output_type": "stream",
     "text": [
      "A 12\n",
      "B 19\n",
      "C 26\n",
      "D 33\n",
      "E 40\n",
      "F 47\n",
      "G 54\n",
      "H 61\n"
     ]
    }
   ],
   "source": [
    "for letter, i in zip(alphabet, range(12, 68, 7)): # Compruebo que hace esto\n",
    "    print(letter, i)"
   ]
  },
  {
   "cell_type": "code",
   "execution_count": 5,
   "metadata": {},
   "outputs": [],
   "source": [
    "all_tables = pd.read_html(\"https://web.archive.org/web/20221115040351/https://en.wikipedia.org/wiki/2022_FIFA_World_Cup#Group_stage\")\n",
    "dict_tables = {} # Diccionario que guardará todos los dataframes para cada grupo\n",
    "\n",
    "for letter, i in zip(alphabet, range(12, 68, 7)):\n",
    "    df = all_tables[i]\n",
    "    df.rename(columns = {df.columns[1] : \"Team\"}, inplace = True) # Cambiamos el nombre de la columna Teamvte\n",
    "    df.pop(\"Qualification\")\n",
    "    dict_tables[f\"Group {letter}\"] = df # {Group X : df}\n",
    "    #print(df)\n",
    "    #print(\" \")"
   ]
  },
  {
   "cell_type": "code",
   "execution_count": 6,
   "metadata": {},
   "outputs": [
    {
     "data": {
      "text/html": [
       "<div>\n",
       "<style scoped>\n",
       "    .dataframe tbody tr th:only-of-type {\n",
       "        vertical-align: middle;\n",
       "    }\n",
       "\n",
       "    .dataframe tbody tr th {\n",
       "        vertical-align: top;\n",
       "    }\n",
       "\n",
       "    .dataframe thead th {\n",
       "        text-align: right;\n",
       "    }\n",
       "</style>\n",
       "<table border=\"1\" class=\"dataframe\">\n",
       "  <thead>\n",
       "    <tr style=\"text-align: right;\">\n",
       "      <th></th>\n",
       "      <th>Pos</th>\n",
       "      <th>Team</th>\n",
       "      <th>Pld</th>\n",
       "      <th>W</th>\n",
       "      <th>D</th>\n",
       "      <th>L</th>\n",
       "      <th>GF</th>\n",
       "      <th>GA</th>\n",
       "      <th>GD</th>\n",
       "      <th>Pts</th>\n",
       "    </tr>\n",
       "  </thead>\n",
       "  <tbody>\n",
       "    <tr>\n",
       "      <th>0</th>\n",
       "      <td>1</td>\n",
       "      <td>Portugal</td>\n",
       "      <td>0</td>\n",
       "      <td>0</td>\n",
       "      <td>0</td>\n",
       "      <td>0</td>\n",
       "      <td>0</td>\n",
       "      <td>0</td>\n",
       "      <td>0</td>\n",
       "      <td>0</td>\n",
       "    </tr>\n",
       "    <tr>\n",
       "      <th>1</th>\n",
       "      <td>2</td>\n",
       "      <td>Ghana</td>\n",
       "      <td>0</td>\n",
       "      <td>0</td>\n",
       "      <td>0</td>\n",
       "      <td>0</td>\n",
       "      <td>0</td>\n",
       "      <td>0</td>\n",
       "      <td>0</td>\n",
       "      <td>0</td>\n",
       "    </tr>\n",
       "    <tr>\n",
       "      <th>2</th>\n",
       "      <td>3</td>\n",
       "      <td>Uruguay</td>\n",
       "      <td>0</td>\n",
       "      <td>0</td>\n",
       "      <td>0</td>\n",
       "      <td>0</td>\n",
       "      <td>0</td>\n",
       "      <td>0</td>\n",
       "      <td>0</td>\n",
       "      <td>0</td>\n",
       "    </tr>\n",
       "    <tr>\n",
       "      <th>3</th>\n",
       "      <td>4</td>\n",
       "      <td>South Korea</td>\n",
       "      <td>0</td>\n",
       "      <td>0</td>\n",
       "      <td>0</td>\n",
       "      <td>0</td>\n",
       "      <td>0</td>\n",
       "      <td>0</td>\n",
       "      <td>0</td>\n",
       "      <td>0</td>\n",
       "    </tr>\n",
       "  </tbody>\n",
       "</table>\n",
       "</div>"
      ],
      "text/plain": [
       "   Pos         Team  Pld  W  D  L  GF  GA  GD  Pts\n",
       "0    1     Portugal    0  0  0  0   0   0   0    0\n",
       "1    2        Ghana    0  0  0  0   0   0   0    0\n",
       "2    3      Uruguay    0  0  0  0   0   0   0    0\n",
       "3    4  South Korea    0  0  0  0   0   0   0    0"
      ]
     },
     "execution_count": 6,
     "metadata": {},
     "output_type": "execute_result"
    }
   ],
   "source": [
    "dict_tables[\"Group H\"]"
   ]
  },
  {
   "cell_type": "code",
   "execution_count": 7,
   "metadata": {},
   "outputs": [],
   "source": [
    "with open(r\"--- Ruta donde se encuentra tu archivo ---\", \"wb\") as output:\n",
    "    pickle.dump(dict_tables, output) # Envía toda la información de dict_tables al output"
   ]
  },
  {
   "cell_type": "code",
   "execution_count": 8,
   "metadata": {},
   "outputs": [],
   "source": [
    "years = [year for year in range(1930, 2019, 4)] # Mundiales jugados hasta 2022"
   ]
  },
  {
   "cell_type": "code",
   "execution_count": 9,
   "metadata": {},
   "outputs": [],
   "source": [
    "def get_Matches(Year):\n",
    "    \"\"\"\n",
    "    \n",
    "    \"\"\"\n",
    "    if Year != 2022: # Compruebo el año del mundial\n",
    "        path_Year = f\"https://en.wikipedia.org/wiki/{Year}_FIFA_World_Cup\"\n",
    "    else:\n",
    "        path_Year = \"https://web.archive.org/web/20221115040351/https://en.wikipedia.org/wiki/2022_FIFA_World_Cup\" # link a la web antes de jugarse el mundial 2022\n",
    "        \n",
    "    response = requests.get(path_Year) # solicitas el acceso al contenido de la web\n",
    "    content = response.text # muestras el contenido \n",
    "    soup = BeautifulSoup(content, \"lxml\")\n",
    "    \n",
    "    matches = soup.find_all(\"div\", class_ = \"footballbox\") # Guardo toda la información de todos los partidos\n",
    "    \n",
    "    home = []\n",
    "    score = []\n",
    "    away = []\n",
    "\n",
    "    for match in matches:   # Itero sobre cada uno de los partidos y los guardo la info en listas \n",
    "        home.append(match.find(\"th\", class_ = \"fhome\").get_text())\n",
    "        score.append(match.find(\"th\", class_ = \"fscore\").get_text())\n",
    "        away.append(match.find(\"th\", class_ = \"faway\").get_text())\n",
    "\n",
    "    dict_matches = {\"home\": home,\n",
    "                    \"score\" : score,\n",
    "                    \"away\" : away}\n",
    "\n",
    "    df_matches = pd.DataFrame(dict_matches)\n",
    "    df_matches[\"year\"] = Year\n",
    "\n",
    "    return df_matches"
   ]
  },
  {
   "cell_type": "code",
   "execution_count": 10,
   "metadata": {},
   "outputs": [],
   "source": [
    "# Historical data\n",
    "fifa = [get_Matches(year) for year in years] # Guardo todos los dataframes en una lista\n",
    "df_Fifa = pd.concat(fifa, ignore_index = True) # Concatenos todos los dataframes en uno sólo\n",
    "df_Fifa.to_csv(r\"--- Ruta de donde vas a guardar el archivo ---\", index = False)\n",
    "\n",
    "#print(get_Matches(1982))\n",
    "\n",
    "# Fixture\n",
    "df_fixture = get_Matches(2022)\n",
    "df_fixture.to_csv(r\"--- Ruta de donde vas a guardar el archivo ---\", index = False)"
   ]
  },
  {
   "cell_type": "markdown",
   "metadata": {},
   "source": [
    "# Limpieza de datos"
   ]
  },
  {
   "cell_type": "code",
   "execution_count": 19,
   "metadata": {},
   "outputs": [],
   "source": [
    "df_historic_data = pd.read_csv(\"Fifa_Wordlcup_Historical_Data.csv\") # Cargo el csv con todos los mundiales hasta el 2018\n",
    "df_historic_data\n",
    "df_fixture = pd.read_csv(\"Fifa_Wordlcup_Fixture.csv\") # Estructura del mundial 2022"
   ]
  },
  {
   "cell_type": "markdown",
   "metadata": {},
   "source": [
    "### Limpieza df_fixture"
   ]
  },
  {
   "cell_type": "code",
   "execution_count": 13,
   "metadata": {},
   "outputs": [],
   "source": [
    "df_fixture[\"home\"] = df_fixture[\"home\"].str.strip() # ELimino posibles espacios en blancos al principio o al final \n",
    "df_fixture[\"away\"] = df_fixture[\"away\"].str.strip()"
   ]
  },
  {
   "cell_type": "markdown",
   "metadata": {},
   "source": [
    "### Limpiando df_historical_data"
   ]
  },
  {
   "cell_type": "code",
   "execution_count": 20,
   "metadata": {},
   "outputs": [
    {
     "data": {
      "text/html": [
       "<div>\n",
       "<style scoped>\n",
       "    .dataframe tbody tr th:only-of-type {\n",
       "        vertical-align: middle;\n",
       "    }\n",
       "\n",
       "    .dataframe tbody tr th {\n",
       "        vertical-align: top;\n",
       "    }\n",
       "\n",
       "    .dataframe thead th {\n",
       "        text-align: right;\n",
       "    }\n",
       "</style>\n",
       "<table border=\"1\" class=\"dataframe\">\n",
       "  <thead>\n",
       "    <tr style=\"text-align: right;\">\n",
       "      <th></th>\n",
       "      <th>home</th>\n",
       "      <th>score</th>\n",
       "      <th>away</th>\n",
       "      <th>year</th>\n",
       "    </tr>\n",
       "  </thead>\n",
       "  <tbody>\n",
       "    <tr>\n",
       "      <th>0</th>\n",
       "      <td>France</td>\n",
       "      <td>4–1</td>\n",
       "      <td>Mexico</td>\n",
       "      <td>1930</td>\n",
       "    </tr>\n",
       "    <tr>\n",
       "      <th>16</th>\n",
       "      <td>Uruguay</td>\n",
       "      <td>4–2</td>\n",
       "      <td>Argentina</td>\n",
       "      <td>1930</td>\n",
       "    </tr>\n",
       "    <tr>\n",
       "      <th>15</th>\n",
       "      <td>Uruguay</td>\n",
       "      <td>6–1</td>\n",
       "      <td>Yugoslavia</td>\n",
       "      <td>1930</td>\n",
       "    </tr>\n",
       "    <tr>\n",
       "      <th>14</th>\n",
       "      <td>Argentina</td>\n",
       "      <td>6–1</td>\n",
       "      <td>United States</td>\n",
       "      <td>1930</td>\n",
       "    </tr>\n",
       "    <tr>\n",
       "      <th>13</th>\n",
       "      <td>Paraguay</td>\n",
       "      <td>1–0</td>\n",
       "      <td>Belgium</td>\n",
       "      <td>1930</td>\n",
       "    </tr>\n",
       "    <tr>\n",
       "      <th>...</th>\n",
       "      <td>...</td>\n",
       "      <td>...</td>\n",
       "      <td>...</td>\n",
       "      <td>...</td>\n",
       "    </tr>\n",
       "    <tr>\n",
       "      <th>826</th>\n",
       "      <td>Brazil</td>\n",
       "      <td>2–0</td>\n",
       "      <td>Costa Rica</td>\n",
       "      <td>2018</td>\n",
       "    </tr>\n",
       "    <tr>\n",
       "      <th>827</th>\n",
       "      <td>Serbia</td>\n",
       "      <td>1–2</td>\n",
       "      <td>Switzerland</td>\n",
       "      <td>2018</td>\n",
       "    </tr>\n",
       "    <tr>\n",
       "      <th>828</th>\n",
       "      <td>Serbia</td>\n",
       "      <td>0–2</td>\n",
       "      <td>Brazil</td>\n",
       "      <td>2018</td>\n",
       "    </tr>\n",
       "    <tr>\n",
       "      <th>830</th>\n",
       "      <td>Germany</td>\n",
       "      <td>0–1</td>\n",
       "      <td>Mexico</td>\n",
       "      <td>2018</td>\n",
       "    </tr>\n",
       "    <tr>\n",
       "      <th>863</th>\n",
       "      <td>France</td>\n",
       "      <td>4–2</td>\n",
       "      <td>Croatia</td>\n",
       "      <td>2018</td>\n",
       "    </tr>\n",
       "  </tbody>\n",
       "</table>\n",
       "<p>864 rows × 4 columns</p>\n",
       "</div>"
      ],
      "text/plain": [
       "           home score            away  year\n",
       "0       France    4–1          Mexico  1930\n",
       "16     Uruguay    4–2       Argentina  1930\n",
       "15     Uruguay    6–1      Yugoslavia  1930\n",
       "14   Argentina    6–1   United States  1930\n",
       "13    Paraguay    1–0         Belgium  1930\n",
       "..          ...   ...             ...   ...\n",
       "826     Brazil    2–0      Costa Rica  2018\n",
       "827     Serbia    1–2     Switzerland  2018\n",
       "828     Serbia    0–2          Brazil  2018\n",
       "830    Germany    0–1          Mexico  2018\n",
       "863     France    4–2         Croatia  2018\n",
       "\n",
       "[864 rows x 4 columns]"
      ]
     },
     "execution_count": 20,
     "metadata": {},
     "output_type": "execute_result"
    }
   ],
   "source": [
    "df_historic_data.isnull() # Compruebo si faltan datos\n",
    "df_historic_data.sort_values(\"year\", inplace = True) # Ordeno el DF según el año\n",
    "df_historic_data"
   ]
  },
  {
   "cell_type": "code",
   "execution_count": 21,
   "metadata": {},
   "outputs": [
    {
     "data": {
      "text/plain": [
       "Index([36], dtype='int64')"
      ]
     },
     "execution_count": 21,
     "metadata": {},
     "output_type": "execute_result"
    }
   ],
   "source": [
    "row_delete = df_historic_data[df_historic_data[\"score\"].str.contains(\"w/o\")].index # busco si algún partido no se jugó\n",
    "row_delete"
   ]
  },
  {
   "cell_type": "code",
   "execution_count": 22,
   "metadata": {},
   "outputs": [],
   "source": [
    "df_historic_data.drop(index = row_delete, inplace = True) # Eliminamos la entrada del DF"
   ]
  },
  {
   "cell_type": "code",
   "execution_count": 9,
   "metadata": {},
   "outputs": [
    {
     "data": {
      "text/html": [
       "<div>\n",
       "<style scoped>\n",
       "    .dataframe tbody tr th:only-of-type {\n",
       "        vertical-align: middle;\n",
       "    }\n",
       "\n",
       "    .dataframe tbody tr th {\n",
       "        vertical-align: top;\n",
       "    }\n",
       "\n",
       "    .dataframe thead th {\n",
       "        text-align: right;\n",
       "    }\n",
       "</style>\n",
       "<table border=\"1\" class=\"dataframe\">\n",
       "  <thead>\n",
       "    <tr style=\"text-align: right;\">\n",
       "      <th></th>\n",
       "      <th>home</th>\n",
       "      <th>score</th>\n",
       "      <th>away</th>\n",
       "      <th>year</th>\n",
       "    </tr>\n",
       "  </thead>\n",
       "  <tbody>\n",
       "  </tbody>\n",
       "</table>\n",
       "</div>"
      ],
      "text/plain": [
       "Empty DataFrame\n",
       "Columns: [home, score, away, year]\n",
       "Index: []"
      ]
     },
     "execution_count": 9,
     "metadata": {},
     "output_type": "execute_result"
    }
   ],
   "source": [
    "df_historic_data[df_historic_data[\"score\"].str.contains(\"w/o\")]"
   ]
  },
  {
   "cell_type": "code",
   "execution_count": 42,
   "metadata": {},
   "outputs": [
    {
     "data": {
      "text/plain": [
       "array(['4–1', '1–0', '3–0', '1–0', '6–3', '3–1', '2–1', '4–0', '3–1',\n",
       "       '1–0', '4–0', '3–0', '3–0', '1–0', '6–1', '6–1', '4–2', '3–1',\n",
       "       '4–2', '3–2', '7–1', '2–1', '3–2', '3–2 (a.e.t.)', '5–2', '2–1',\n",
       "       '1–1 (a.e.t.)', '2–1', '3–2', '1–0', '1–0', '3–1', '3–2',\n",
       "       '2–1 (a.e.t.)', '1–1 (a.e.t.)', '6–0', '3–3 (a.e.t.)', '3–1',\n",
       "       '2–1 (a.e.t.)', '6–5 (a.e.t.)', '3–0 (a.e.t.)', '4–2', '2–1',\n",
       "       '2–0', '8–0', '3–1', '1–1 (a.e.t.)', '2–1', '5–1', '2–1', '4–2',\n",
       "       '4–2', '4–0', '3–0', '2–2', '4–1', '2–0', '2–1', '2–0', '3–1',\n",
       "       '2–0', '1–0', '1–0', '5–2', '3–2', '2–2', '2–0', '8–0', '2–2',\n",
       "       '7–1', '6–1', '3–2', '3–1', '2–1', '5–0', '1–0', '1–1 (a.e.t.)',\n",
       "       '3–2', '4–1', '9–0', '8–3', '7–0', '7–2', '2–0', '1–0', '7–0',\n",
       "       '5–0', '2–1', '4–4 (a.e.t.)', '4–1', '2–0', '4–1', '7–5', '4–2',\n",
       "       '2–0', '4–2', '6–1', '4–2 (a.e.t.)', '3–1', '3–2', '1–3', '1–0',\n",
       "       '2–2', '3–1', '2–2', '6–1', '2–1 (a.e.t.)', '7–3', '1–1', '3–2',\n",
       "       '3–2', '2–1', '3–3', '3–0', '1–1', '1–1', '2–1', '0–0', '4–0',\n",
       "       '2–1', '3–0', '2–2', '0–0', '2–0', '2–2', '2–0', '1–0', '1–0',\n",
       "       '4–0', '2–0', '1–0', '5–2', '3–1', '6–3', '5–2', '2–1', '2–0',\n",
       "       '3–1', '4–4', '2–1', '5–0', '3–1', '0–0', '2–0', '2–1', '2–0',\n",
       "       '3–0', '2–0', '1–0', '0–0', '1–0', '2–1', '3–1', '1–0', '2–1',\n",
       "       '3–1', '6–1', '0–0', '0–0', '2–1', '1–0', '3–1', '1–0', '3–1',\n",
       "       '4–2', '1–0', '3–1', '0–0', '1–1', '2–1', '2–0', '0–0', '2–0',\n",
       "       '5–0', '2–1', '2–1', '0–0', '2–0', '2–1', '2–0', '3–1', '3–1',\n",
       "       '3–0', '3–1', '3–1', '3–0', '2–0', '1–1', '1–0', '1–0', '2–1',\n",
       "       '1–0', '4–0', '2–1', '5–3', '2–1', '2–1', '2–1', '4–2 (a.e.t.)',\n",
       "       '0–0', '3–0', '4–1', '4–0', '2–0', '1–0', '2–0', '1–0', '0–0',\n",
       "       '1–1', '1–0', '0–0', '1–0', '4–1', '2–1', '1–0', '3–2', '1–0',\n",
       "       '3–2', '2–1', '3–0', '5–2', '3–1', '1–1', '0–1 (a.e.t.)', '4–1',\n",
       "       '4–2', '3–2 (a.e.t.)', '1–3', '4–3 (a.e.t.)', '0–1', '4–1', '1–0',\n",
       "       '2–0', '0–3', '1–1', '0–0', '1–0', '0–0', '0–2', '9–0', '0–0',\n",
       "       '1–1', '0–3', '0–2', '0–0', '1–1', '0–0', '1–4', '3–0', '3–1',\n",
       "       '3–2', '1–1', '0–7', '4–1', '2–1', '4–0', '1–0', '1–2', '0–2',\n",
       "       '1–1', '2–0', '0–2', '0–1', '2–1', '4–2', '0–1', '2–1', '0–1',\n",
       "       '1–2', '2–1', '2–1', '3–1', '2–1', '3–1', '0–1', '0–0', '3–1',\n",
       "       '6–0', '1–0', '0–0', '3–1', '2–1', '1–1', '1–0', '0–0', '1–0',\n",
       "       '1–0', '3–1', '3–0', '1–1', '0–0', '4–1', '3–2', '1–5', '0–0',\n",
       "       '2–2', '1–0', '3–2', '1–2', '3–0', '2–0', '0–1', '0–0', '3–1',\n",
       "       '6–0', '2–1', '3–1 (a.e.t.)', '0–0', '0–0', '1–1', '0–0', '5–1',\n",
       "       '1–1', '1–2', '0–1', '4–1', '0–2', '3–2', '1–0', '0–1', '10–1',\n",
       "       '4–1', '1–0', '1–1', '2–0', '3–1', '1–1', '2–0', '4–1', '1–1',\n",
       "       '1–0', '1–1', '0–0', '2–1', '1–1', '0–1', '0–1', '2–1', '5–2',\n",
       "       '4–1', '3–0', '2–2', '4–0', '3–0', '0–1', '0–0', '0–0', '2–1',\n",
       "       '0–0', '2–1', '1–3', '3–2', '0–1', '2–2', '4–1', '0–2',\n",
       "       '3–3 (a.e.t.)', '3–2', '3–1', '1–1', '3–1', '1–1', '1–1', '2–3',\n",
       "       '2–0', '1–2', '1–0', '1–1', '1–2', '2–2', '0–1', '0–1', '6–0',\n",
       "       '1–1', '2–0', '0–3', '2–0', '0–1', '1–1', '1–0', '1–2', '0–3',\n",
       "       '0–3', '1–1', '0–1', '2–1', '6–1', '2–0', '0–0', '0–0', '1–0',\n",
       "       '0–0', '1–0', '3–0', '1–3', '2–0', '3–4 (a.e.t.)', '4–0', '1–0',\n",
       "       '0–2', '0–1', '3–0', '1–5', '1–1 (a.e.t.)', '0–0 (a.e.t.)', '2–1',\n",
       "       '1–1 (a.e.t.)', '0–2', '2–0', '2–4 (a.e.t.)', '3–2',\n",
       "       '2–1 (a.e.t.)', '4–1', '0–1', '2–1', '0–0 (a.e.t.)', '2–0',\n",
       "       '1–2 (a.e.t.)', '1–0 (a.e.t.)', '0–0 (a.e.t.)', '0–1', '0–1',\n",
       "       '2–3 (a.e.t.)', '1–1 (a.e.t.)', '1–1 (a.e.t.)', '2–1', '1–0',\n",
       "       '1–1', '1–3', '1–4', '2–1', '0–2', '0–1', '2–2', '2–0', '3–0',\n",
       "       '3–1', '6–1', '1–1', '1–0', '2–2', '1–1', '0–0', '1–3', '3–2',\n",
       "       '4–0', '3–0', '2–1', '4–0', '0–2', '0–2', '0–1', '1–0', '1–0',\n",
       "       '2–1', '1–1', '0–0', '1–0', '2–1', '1–0', '2–1', '0–1', '1–2',\n",
       "       '3–2', '3–0', '1–3', '3–2', '2–0', '1–0', '1–2 (a.e.t.)',\n",
       "       '1–1 (a.e.t.)', '2–1', '2–3', '2–1', '2–2 (a.e.t.)', '1–2', '0–1',\n",
       "       '4–0', '0–0 (a.e.t.)', '2–1', '2–2', '1–1', '3–0', '0–3', '1–2',\n",
       "       '2–2', '1–1', '1–1', '3–0', '2–1', '1–1', '0–1', '3–0', '1–1',\n",
       "       '4–0', '2–1', '2–2', '0–0', '2–3', '1–0', '0–0', '1–3', '6–1',\n",
       "       '1–3', '0–0', '2–2', '5–0', '2–2', '1–1', '1–0', '2–0', '2–2',\n",
       "       '1–2', '2–0', '0–1', '2–0', '1–0', '1–0', '2–1', '0–2', '1–1',\n",
       "       '1–0', '1–3', '0–1', '5–0', '1–0', '1–2', '1–0', '4–1',\n",
       "       '1–0 (a.e.t./g.g.)', '1–4', '2–1', '2–1', '0–1', '2–2 (a.e.t.)',\n",
       "       '0–0 (a.e.t.)', '3–2', '2–1', '0–3', '1–1 (a.e.t.)', '2–1', '1–2',\n",
       "       '0–3', '0–1', '1–2', '1–1', '0–0', '2–0', '3–3', '2–2', '3–1',\n",
       "       '3–1', '1–0', '2–3', '1–3', '2–1', '0–2', '4–0', '1–1', '2–5',\n",
       "       '3–0', '2–0', '3–2', '1–1', '4–0', '0–1', '3–1', '1–1', '8–0',\n",
       "       '1–1', '1–0', '0–2', '0–3', '1–0', '1–1', '2–1', '0–1', '1–1',\n",
       "       '0–0', '0–1', '2–0', '1–2', '2–1', '1–1', '1–0', '2–2', '2–0',\n",
       "       '1–0', '1–1', '0–2', '3–2', '1–0', '0–3', '1–2 (a.e.t./g.g.)',\n",
       "       '1–1 (a.e.t.)', '0–2', '2–0', '0–1', '2–1 (a.e.t./g.g.)', '1–2',\n",
       "       '1–0', '0–0 (a.e.t.)', '0–1 (a.e.t./g.g.)', '1–0', '1–0', '2–3',\n",
       "       '0–2', '4–2', '0–2', '1–0', '3–0', '0–3', '1–2', '1–0', '0–0',\n",
       "       '2–0', '1–0', '2–2', '2–0', '2–1', '0–1', '6–0', '2–1', '0–0',\n",
       "       '3–2', '3–1', '0–1', '0–0', '2–0', '2–1', '1–1', '0–3', '2–0',\n",
       "       '0–2', '1–1', '0–2', '2–1', '3–1', '1–0', '0–0', '2–0', '1–4',\n",
       "       '2–2', '2–1', '0–0', '1–1', '0–2', '0–2', '2–0', '4–0', '2–2',\n",
       "       '0–4', '3–1', '0–1', '1–0', '2–0', '2–1 (a.e.t.)', '1–0', '1–0',\n",
       "       '1–0', '0–0 (a.e.t.)', '3–0', '1–3', '1–1 (a.e.t.)', '3–0',\n",
       "       '0–0 (a.e.t.)', '0–1', '0–2 (a.e.t.)', '0–1', '3–1',\n",
       "       '1–1 (a.e.t.)', '1–1', '0–0', '0–3', '0–2', '0–1', '1–2', '2–0',\n",
       "       '1–0', '4–1', '2–1', '2–2', '0–2', '1–1', '0–1', '2–2', '0–0',\n",
       "       '0–1', '1–0', '0–1', '4–0', '0–1', '1–1', '0–1', '2–1', '2–0',\n",
       "       '1–0', '1–0', '1–2', '1–3', '1–2', '1–1', '1–1', '0–2', '1–1',\n",
       "       '3–2', '0–0', '0–0', '2–1', '3–1', '7–0', '0–0', '0–3', '0–1',\n",
       "       '0–1', '1–0', '2–0', '1–2', '0–0', '2–1', '1–2 (a.e.t.)', '4–1',\n",
       "       '3–1', '2–1', '3–0', '0–0 (a.e.t.)', '1–0', '2–1', '1–1 (a.e.t.)',\n",
       "       '0–4', '0–1', '2–3', '0–1', '2–3', '0–1 (a.e.t.)', '3–1', '1–0',\n",
       "       '0–0', '0–4', '1–4', '1–3', '1–5', '3–1', '2–3', '0–2', '0–3',\n",
       "       '2–0', '3–0', '2–1', '2–1', '0–0', '1–4', '2–1', '1–3', '1–2',\n",
       "       '2–1', '0–1', '0–1', '0–0', '2–1', '3–0', '2–5', '1–2', '0–3',\n",
       "       '0–0', '2–1', '0–0', '1–0', '1–0', '2–3', '3–1', '4–0', '1–2',\n",
       "       '2–2', '2–2', '0–1', '2–1', '2–1', '1–1', '1–0', '2–4', '0–1',\n",
       "       '1–1', '1–1 (a.e.t.)', '2–0', '2–1', '1–1 (a.e.t.)', '2–0',\n",
       "       '2–1 (a.e.t.)', '1–0 (a.e.t.)', '2–1 (a.e.t.)', '0–1', '2–1',\n",
       "       '1–0', '0–0 (a.e.t.)', '1–7', '0–0 (a.e.t.)', '0–3',\n",
       "       '1–0 (a.e.t.)', '5–0', '0–1', '3–1', '1–0', '3–0', '2–1', '0–1',\n",
       "       '3–3', '1–0', '0–1', '1–1', '2–2', '2–1', '0–1', '1–1', '1–0',\n",
       "       '0–0', '0–2', '1–1', '2–0', '0–3', '2–0', '1–2', '1–2', '0–1',\n",
       "       '1–1', '2–0', '1–2', '0–2', '2–2', '0–1', '1–0', '1–2', '2–1',\n",
       "       '2–0', '0–3', '3–0', '1–2', '5–2', '6–1', '0–1', '1–2', '1–2',\n",
       "       '1–2', '2–2', '0–3', '0–1', '0–1', '4–3', '2–1', '1–1 (a.e.t.)',\n",
       "       '1–1 (a.e.t.)', '2–0', '3–2', '1–0', '1–1 (a.e.t.)', '0–2', '1–2',\n",
       "       '0–2', '2–2 (a.e.t.)', '1–0', '2–1 (a.e.t.)', '2–0', '4–2'],\n",
       "      dtype=object)"
      ]
     },
     "execution_count": 42,
     "metadata": {},
     "output_type": "execute_result"
    }
   ],
   "source": [
    "df_historic_data[\"score\"].values # Miro los valores de la variable score"
   ]
  },
  {
   "cell_type": "code",
   "execution_count": 24,
   "metadata": {},
   "outputs": [
    {
     "data": {
      "text/html": [
       "<div>\n",
       "<style scoped>\n",
       "    .dataframe tbody tr th:only-of-type {\n",
       "        vertical-align: middle;\n",
       "    }\n",
       "\n",
       "    .dataframe tbody tr th {\n",
       "        vertical-align: top;\n",
       "    }\n",
       "\n",
       "    .dataframe thead th {\n",
       "        text-align: right;\n",
       "    }\n",
       "</style>\n",
       "<table border=\"1\" class=\"dataframe\">\n",
       "  <thead>\n",
       "    <tr style=\"text-align: right;\">\n",
       "      <th></th>\n",
       "      <th>home</th>\n",
       "      <th>score</th>\n",
       "      <th>away</th>\n",
       "      <th>year</th>\n",
       "    </tr>\n",
       "  </thead>\n",
       "  <tbody>\n",
       "  </tbody>\n",
       "</table>\n",
       "</div>"
      ],
      "text/plain": [
       "Empty DataFrame\n",
       "Columns: [home, score, away, year]\n",
       "Index: []"
      ]
     },
     "execution_count": 24,
     "metadata": {},
     "output_type": "execute_result"
    }
   ],
   "source": [
    "# df_historic_data[df_historic_data[\"score\"].str.contains(\"a.e.\")] \n",
    "# Filtro donde se encuentran los datos a limpiar\n",
    "df_historic_data[\"score\"] = df_historic_data[\"score\"].str.replace(\"(a.e.t.)\", \"\", regex = False)\n",
    "df_historic_data[\"score\"] = df_historic_data[\"score\"].str.replace(\"(a.e.t./g.g.)\", \"\", regex = False)\n",
    "df_historic_data[df_historic_data[\"score\"].str.contains(\"a.e.t.\")]\n",
    "#df_historic_data[\"score\"].describe(include = \"all\")\n"
   ]
  },
  {
   "cell_type": "code",
   "execution_count": null,
   "metadata": {},
   "outputs": [],
   "source": [
    "data = {\"Home\" : [\"team1\", \"tema2\", \"team3\", \"team4\", \"team5\"],\n",
    "        \"Score\" : [\"2-1 (a.e.t.)\", \"0-3\", \"1-4 (a.e.t.)\", \"2-2\", \"3-0\"],\n",
    "        \"Away\" : [\"t1\", \"t2\", \"t3\", \"t4\", \"t5\"]\n",
    "        }\n",
    "\n",
    "data_df = pd.DataFrame(data)\n",
    "\n",
    "#data_df[data_df[\"Score\"].str.contains(r\"[^\\d-]\", regex = True)]\n",
    "data_df[\"Score\"] = data_df[\"Score\"].str.replace(r\"[^\\d-]\", \"\", regex = True)\n",
    "data_df[\"Score\"].values\n",
    "#data_df[\"Score\"].str.split(\"-\", expand = True)"
   ]
  },
  {
   "cell_type": "code",
   "execution_count": null,
   "metadata": {},
   "outputs": [],
   "source": [
    "data = {\"Home\" : [\"team1\", \"tema2\", \"team3\", \"team4\", \"team5\"],\n",
    "        \"Score\" : [\"2-1\", \"0-3\", \"1-4\", \"2-2\", \"3-0\"],\n",
    "       \"Away\" : [\"t1\", \"t2\", \"t3\", \"t4\", \"t5\"]\n",
    "        }\n",
    "\n",
    "data_df = pd.DataFrame(data)\n",
    "data_df\n",
    "\n",
    "data_df[\"Score\"].str.split(\"-\", expand = True)"
   ]
  },
  {
   "cell_type": "code",
   "execution_count": 25,
   "metadata": {},
   "outputs": [
    {
     "data": {
      "text/html": [
       "<div>\n",
       "<style scoped>\n",
       "    .dataframe tbody tr th:only-of-type {\n",
       "        vertical-align: middle;\n",
       "    }\n",
       "\n",
       "    .dataframe tbody tr th {\n",
       "        vertical-align: top;\n",
       "    }\n",
       "\n",
       "    .dataframe thead th {\n",
       "        text-align: right;\n",
       "    }\n",
       "</style>\n",
       "<table border=\"1\" class=\"dataframe\">\n",
       "  <thead>\n",
       "    <tr style=\"text-align: right;\">\n",
       "      <th></th>\n",
       "      <th>home</th>\n",
       "      <th>score</th>\n",
       "      <th>away</th>\n",
       "      <th>year</th>\n",
       "    </tr>\n",
       "  </thead>\n",
       "  <tbody>\n",
       "    <tr>\n",
       "      <th>0</th>\n",
       "      <td>France</td>\n",
       "      <td>4–1</td>\n",
       "      <td>Mexico</td>\n",
       "      <td>1930</td>\n",
       "    </tr>\n",
       "    <tr>\n",
       "      <th>16</th>\n",
       "      <td>Uruguay</td>\n",
       "      <td>4–2</td>\n",
       "      <td>Argentina</td>\n",
       "      <td>1930</td>\n",
       "    </tr>\n",
       "    <tr>\n",
       "      <th>15</th>\n",
       "      <td>Uruguay</td>\n",
       "      <td>6–1</td>\n",
       "      <td>Yugoslavia</td>\n",
       "      <td>1930</td>\n",
       "    </tr>\n",
       "    <tr>\n",
       "      <th>14</th>\n",
       "      <td>Argentina</td>\n",
       "      <td>6–1</td>\n",
       "      <td>United States</td>\n",
       "      <td>1930</td>\n",
       "    </tr>\n",
       "    <tr>\n",
       "      <th>13</th>\n",
       "      <td>Paraguay</td>\n",
       "      <td>1–0</td>\n",
       "      <td>Belgium</td>\n",
       "      <td>1930</td>\n",
       "    </tr>\n",
       "    <tr>\n",
       "      <th>...</th>\n",
       "      <td>...</td>\n",
       "      <td>...</td>\n",
       "      <td>...</td>\n",
       "      <td>...</td>\n",
       "    </tr>\n",
       "    <tr>\n",
       "      <th>826</th>\n",
       "      <td>Brazil</td>\n",
       "      <td>2–0</td>\n",
       "      <td>Costa Rica</td>\n",
       "      <td>2018</td>\n",
       "    </tr>\n",
       "    <tr>\n",
       "      <th>827</th>\n",
       "      <td>Serbia</td>\n",
       "      <td>1–2</td>\n",
       "      <td>Switzerland</td>\n",
       "      <td>2018</td>\n",
       "    </tr>\n",
       "    <tr>\n",
       "      <th>828</th>\n",
       "      <td>Serbia</td>\n",
       "      <td>0–2</td>\n",
       "      <td>Brazil</td>\n",
       "      <td>2018</td>\n",
       "    </tr>\n",
       "    <tr>\n",
       "      <th>830</th>\n",
       "      <td>Germany</td>\n",
       "      <td>0–1</td>\n",
       "      <td>Mexico</td>\n",
       "      <td>2018</td>\n",
       "    </tr>\n",
       "    <tr>\n",
       "      <th>863</th>\n",
       "      <td>France</td>\n",
       "      <td>4–2</td>\n",
       "      <td>Croatia</td>\n",
       "      <td>2018</td>\n",
       "    </tr>\n",
       "  </tbody>\n",
       "</table>\n",
       "<p>863 rows × 4 columns</p>\n",
       "</div>"
      ],
      "text/plain": [
       "           home score            away  year\n",
       "0       France    4–1          Mexico  1930\n",
       "16     Uruguay    4–2       Argentina  1930\n",
       "15     Uruguay    6–1      Yugoslavia  1930\n",
       "14   Argentina    6–1   United States  1930\n",
       "13    Paraguay    1–0         Belgium  1930\n",
       "..          ...   ...             ...   ...\n",
       "826     Brazil    2–0      Costa Rica  2018\n",
       "827     Serbia    1–2     Switzerland  2018\n",
       "828     Serbia    0–2          Brazil  2018\n",
       "830    Germany    0–1          Mexico  2018\n",
       "863     France    4–2         Croatia  2018\n",
       "\n",
       "[863 rows x 4 columns]"
      ]
     },
     "execution_count": 25,
     "metadata": {},
     "output_type": "execute_result"
    }
   ],
   "source": [
    "df_historic_data[df_historic_data[\"score\"].str.contains(r\"[^\\d-]\", regex = True)]\n",
    "# \"[^\\d-]\" encuentra carácteres que no sean dígitos o un -"
   ]
  },
  {
   "cell_type": "code",
   "execution_count": 26,
   "metadata": {},
   "outputs": [],
   "source": [
    "df_historic_data[\"home\"] = df_historic_data[\"home\"].str.strip() # ELimino posibles espacios en blancos al principio o al final \n",
    "df_historic_data[\"away\"] = df_historic_data[\"away\"].str.strip()"
   ]
  },
  {
   "cell_type": "code",
   "execution_count": 29,
   "metadata": {},
   "outputs": [
    {
     "data": {
      "text/html": [
       "<div>\n",
       "<style scoped>\n",
       "    .dataframe tbody tr th:only-of-type {\n",
       "        vertical-align: middle;\n",
       "    }\n",
       "\n",
       "    .dataframe tbody tr th {\n",
       "        vertical-align: top;\n",
       "    }\n",
       "\n",
       "    .dataframe thead th {\n",
       "        text-align: right;\n",
       "    }\n",
       "</style>\n",
       "<table border=\"1\" class=\"dataframe\">\n",
       "  <thead>\n",
       "    <tr style=\"text-align: right;\">\n",
       "      <th></th>\n",
       "      <th>0</th>\n",
       "    </tr>\n",
       "  </thead>\n",
       "  <tbody>\n",
       "    <tr>\n",
       "      <th>0</th>\n",
       "      <td>4–1</td>\n",
       "    </tr>\n",
       "    <tr>\n",
       "      <th>16</th>\n",
       "      <td>4–2</td>\n",
       "    </tr>\n",
       "    <tr>\n",
       "      <th>15</th>\n",
       "      <td>6–1</td>\n",
       "    </tr>\n",
       "    <tr>\n",
       "      <th>14</th>\n",
       "      <td>6–1</td>\n",
       "    </tr>\n",
       "    <tr>\n",
       "      <th>13</th>\n",
       "      <td>1–0</td>\n",
       "    </tr>\n",
       "    <tr>\n",
       "      <th>...</th>\n",
       "      <td>...</td>\n",
       "    </tr>\n",
       "    <tr>\n",
       "      <th>826</th>\n",
       "      <td>2–0</td>\n",
       "    </tr>\n",
       "    <tr>\n",
       "      <th>827</th>\n",
       "      <td>1–2</td>\n",
       "    </tr>\n",
       "    <tr>\n",
       "      <th>828</th>\n",
       "      <td>0–2</td>\n",
       "    </tr>\n",
       "    <tr>\n",
       "      <th>830</th>\n",
       "      <td>0–1</td>\n",
       "    </tr>\n",
       "    <tr>\n",
       "      <th>863</th>\n",
       "      <td>4–2</td>\n",
       "    </tr>\n",
       "  </tbody>\n",
       "</table>\n",
       "<p>863 rows × 1 columns</p>\n",
       "</div>"
      ],
      "text/plain": [
       "       0\n",
       "0    4–1\n",
       "16   4–2\n",
       "15   6–1\n",
       "14   6–1\n",
       "13   1–0\n",
       "..   ...\n",
       "826  2–0\n",
       "827  1–2\n",
       "828  0–2\n",
       "830  0–1\n",
       "863  4–2\n",
       "\n",
       "[863 rows x 1 columns]"
      ]
     },
     "execution_count": 29,
     "metadata": {},
     "output_type": "execute_result"
    }
   ],
   "source": [
    "df_historic_data[\"score\"].str.split(\"-\", expand = True)"
   ]
  },
  {
   "cell_type": "code",
   "execution_count": null,
   "metadata": {},
   "outputs": [],
   "source": [
    "df_historic_data[[\"HomeGoals\", \"AwayGoals\"]] = df_historic_data[\"score\"].str.split(pat = \"-\", expand = True)"
   ]
  },
  {
   "cell_type": "code",
   "execution_count": null,
   "metadata": {},
   "outputs": [],
   "source": [
    "df_historic_data.drop(\"score\", axis = 1, inplace = True) # Eliminamos la columna score"
   ]
  },
  {
   "cell_type": "code",
   "execution_count": null,
   "metadata": {},
   "outputs": [],
   "source": [
    "# df_historic_data.columns[0:3] = [\"HomeTeam\", \"AwayTeam\", \"Year\"]\n",
    "df_historic_data.rename(columns = {\"home\" : \"HomeTeam\", \n",
    "                                   \"away\" : \"Awayteam\",\n",
    "                                   \"year\" : \"Year\"}, inplace = True)"
   ]
  },
  {
   "cell_type": "code",
   "execution_count": null,
   "metadata": {},
   "outputs": [],
   "source": [
    "df_historic_data.dtypes\n",
    "df_historic_data = df_historic_data.astype({\"HomeGoals\" : int,\n",
    "                                            \"AwayGoals\" : int})"
   ]
  },
  {
   "cell_type": "markdown",
   "metadata": {},
   "source": [
    "# Exportar DataFrames limpios"
   ]
  },
  {
   "cell_type": "code",
   "execution_count": null,
   "metadata": {},
   "outputs": [],
   "source": [
    "df_historic_data.to_csv(r\"--- Ruta a donde vas a guardar el archivo ---\", index = False)\n",
    "df_fixture.to_csv(r\"--- Ruta a donde vas a guardar el archivo ---\", index = False)"
   ]
  },
  {
   "cell_type": "markdown",
   "metadata": {},
   "source": [
    "# Calcular Team Strength"
   ]
  },
  {
   "cell_type": "code",
   "execution_count": null,
   "metadata": {},
   "outputs": [],
   "source": [
    "#dict_table = pickle.load(open(r\"C:\\Users\\nenit\\OneDrive\\Escritorio\\Data Science\\Proyectos personales\\Python\\Proyecto Mundial\\dict_table.json\", \"rb\"))\n",
    "#df_historic_data = pd.read_csv(r\"C:\\Users\\nenit\\OneDrive\\Escritorio\\Data Science\\Proyectos personales\\Python\\Proyecto Mundial\\Clean_Fifa_Wordlcup_Historical_Data.csv\")\n",
    "#df_fixture = pd.read_csv(r\"C:\\Users\\nenit\\OneDrive\\Escritorio\\Data Science\\Proyectos personales\\Python\\Proyecto Mundial\\Clean_Fifa_Wordlcup_Fixture.csv\")"
   ]
  },
  {
   "cell_type": "code",
   "execution_count": null,
   "metadata": {},
   "outputs": [],
   "source": [
    "#dict_tables.keys()\n",
    "# Dividimos el df en df_home y df_away\n",
    "df_home = df_historic_data[[\"HomeTeam\", \"HomeGoals\", \"AwayGoals\"]]\n",
    "df_away = df_historic_data[[\"AwayTeam\", \"HomeGoals\", \"AwayGoals\"]]"
   ]
  },
  {
   "cell_type": "code",
   "execution_count": null,
   "metadata": {},
   "outputs": [],
   "source": [
    "# Renombrar las  para estandarizar\n",
    "df_home.rename(columns = {\"HomeTeam\" : \"Team\", \"HomeGoals\" : \"GoalsScored\",\n",
    "                          \"AwayGoals\" : \"GoalsConceded\"}, inplace = True)\n",
    "df_away.rename(columns = {\"AwayTeam\" : \"Team\", \"HomeGoals\" : \"GoalsConceded\",\n",
    "                          \"AwayGoals\" : \"GoalsScored\"}, inplace = True)"
   ]
  },
  {
   "cell_type": "code",
   "execution_count": null,
   "metadata": {},
   "outputs": [],
   "source": [
    "# Concatenar df_home y df_away, hacer group by Team y calcular mean para obtener la fortaleza de cada equipo\n",
    "df_Team_Strenght = pd.concat([df_home, df_away], ignore_index = True).groupby(\"Team\").mean()\n"
   ]
  },
  {
   "cell_type": "markdown",
   "metadata": {},
   "source": [
    "# Función predict_points"
   ]
  },
  {
   "cell_type": "code",
   "execution_count": null,
   "metadata": {},
   "outputs": [],
   "source": [
    "def predict_points(home, away) -> tuple:\n",
    "    \"\"\"\n",
    "    Disposición de Poisson para predecir el equipo ganador del partido\n",
    "\n",
    "    inputs:\n",
    "    home(str) : equipo local\n",
    "    away(str) : equipo visitante\n",
    "\n",
    "    return:\n",
    "    tupla con los puntos de cada equipo o\n",
    "    (0, 0)\n",
    "    \"\"\"\n",
    "    if home in df_Team_Strenght.index and away in df_Team_Strenght.index:\n",
    "        # goals_scored  goals_conceded\n",
    "        lamb_home = df_Team_Strenght.at[home, \"GoalsScored\"] * df_Team_Strenght.at[away, \"GoalsConceded\"]\n",
    "        lamb_away = df_Team_Strenght.at[away, \"GoalsScored\"] * df_Team_Strenght.at[home, \"GoalsConceded\"]\n",
    "        prob_home, prob_away, prob_draw = 0, 0, 0 \n",
    "\n",
    "        for x in range(0,11): # number of goals home team\n",
    "            for y in range(0, 11): # number of goals away team\n",
    "                p = poisson.pmf(x, lamb_home) * poisson.pmf(y, lamb_away)\n",
    "\n",
    "                if x == y:\n",
    "                    prob_draw += p\n",
    "                elif x > y:\n",
    "                    prob_home += p\n",
    "                elif x < y: # else:\n",
    "                    prob_away += p\n",
    "\n",
    "        points_home = 3 * prob_home + prob_draw\n",
    "        points_away = 3 * prob_away + prob_draw\n",
    "      \n",
    "        return (points_home, points_away)\n",
    "    \n",
    "    else:\n",
    "        return (0, 0)"
   ]
  },
  {
   "cell_type": "markdown",
   "metadata": {},
   "source": [
    "## Testear la función"
   ]
  },
  {
   "cell_type": "code",
   "execution_count": null,
   "metadata": {},
   "outputs": [],
   "source": [
    "predict_points(\"Argentina\", \"Mexico\")"
   ]
  },
  {
   "cell_type": "markdown",
   "metadata": {},
   "source": [
    "# Prediciendo el resultado del Mundial"
   ]
  },
  {
   "cell_type": "markdown",
   "metadata": {},
   "source": [
    "## Fase de grupo"
   ]
  },
  {
   "cell_type": "code",
   "execution_count": null,
   "metadata": {},
   "outputs": [],
   "source": [
    "# Dividimos el df_fixture en fases\n",
    "\n",
    "df_fixture_group_48 = df_fixture[:48].copy()\n",
    "df_fixture_knockout = df_fixture[48:56].copy()\n",
    "df_fixture_quarter = df_fixture[56:60].copy()\n",
    "df_fixture_semi = df_fixture[60:62].copy()\n",
    "df_fixture_final = df_fixture[62:].copy()"
   ]
  },
  {
   "cell_type": "code",
   "execution_count": null,
   "metadata": {},
   "outputs": [],
   "source": [
    "# Actualizamos las tablas de cada grupo con los resultados que da la función preditc_points\n",
    "for group in dict_tables:\n",
    "    group_teams = dict_tables[group][\"Team\"].values\n",
    "    df_fixture_group_6 = df_fixture_group_48[df_fixture_group_48[\"home\"].isin(group_teams)]\n",
    "    \n",
    "    for index, row in df_fixture_group_6.iterrows():\n",
    "        home, away = row[\"home\"], row[\"away\"]\n",
    "        points_home, points_away = predict_points(home, away)\n",
    "\n",
    "        dict_tables[group].loc[dict_tables[group][\"Team\"] == home, \"Pts\"] += points_home\n",
    "        dict_tables[group].loc[dict_tables[group][\"Team\"] == away, \"Pts\"] += points_away\n",
    "    \n",
    "    dict_tables[group] = dict_tables[group].sort_values(\"Pts\", ascending = False).reset_index()\n",
    "    dict_tables[group] = dict_tables[group][[\"Team\", \"Pts\"]]\n",
    "    dict_tables[group] = dict_tables[group].round(0)"
   ]
  },
  {
   "cell_type": "code",
   "execution_count": null,
   "metadata": {},
   "outputs": [],
   "source": [
    "dict_tables[\"Group C\"]"
   ]
  },
  {
   "cell_type": "markdown",
   "metadata": {},
   "source": [
    "## Octavos"
   ]
  },
  {
   "cell_type": "code",
   "execution_count": null,
   "metadata": {},
   "outputs": [],
   "source": [
    "df_fixture_knockout"
   ]
  },
  {
   "cell_type": "code",
   "execution_count": null,
   "metadata": {},
   "outputs": [],
   "source": [
    "for group in dict_tables:\n",
    "    # Obtenemos el 1 y 2 segundo mejor equipo de cada grupo\n",
    "    group_winner = dict_tables[group].loc[0, \"Team\"]\n",
    "    group_runner_up = dict_tables[group].loc[1, \"Team\"]\n",
    "    # Actualizamos el DF con los dos mejores equipo de cada grupo\n",
    "    df_fixture_knockout.replace({f\"Winners {group}\" : group_winner, \n",
    "                                 f\"Runners_up {group}\" : group_runner_up},\n",
    "                                 inplace = True)\n",
    "\n",
    "df_fixture_knockout[\"Winner\"] = \"?\"\n",
    "df_fixture_knockout"
   ]
  },
  {
   "cell_type": "code",
   "execution_count": null,
   "metadata": {},
   "outputs": [],
   "source": [
    "def get_winner(df_fixture_updated) -> pd.DataFrame:\n",
    "    \"\"\"\n",
    "    Función que predice que equipo va a ser el ganador del mundial\n",
    "\n",
    "    inputs:\n",
    "    df_fixture_updated (DF) : dataframe con los dos equipos que llegarían a la final\n",
    "\n",
    "    return:\n",
    "    df_fixture_updated (DF) : mismo DF pero se le modifica la columna \"winner\"\n",
    "    \"\"\"\n",
    "    for index, row in df_fixture_updated.iterrows():\n",
    "        home, away = row[\"home\"], row[\"away\"]\n",
    "        home_points, away_points = predict_points(home, away)\n",
    "\n",
    "        if home_points > away_points:\n",
    "            winner = home\n",
    "\n",
    "        elif home_points < away_points:\n",
    "            winner = away\n",
    "\n",
    "        df_fixture_updated.loc[index, \"Winner\"] = winner\n",
    "\n",
    "    return df_fixture_updated"
   ]
  },
  {
   "cell_type": "code",
   "execution_count": null,
   "metadata": {},
   "outputs": [],
   "source": [
    "get_winner(df_fixture_knockout) # Jugamos los partidos de los octavos"
   ]
  },
  {
   "cell_type": "markdown",
   "metadata": {},
   "source": [
    "## Cuartos de final"
   ]
  },
  {
   "cell_type": "code",
   "execution_count": null,
   "metadata": {},
   "outputs": [],
   "source": [
    "df_fixture_quarter"
   ]
  },
  {
   "cell_type": "code",
   "execution_count": null,
   "metadata": {},
   "outputs": [],
   "source": [
    "def update_table(df_fixture_1, df_fixture_2) -> pd.DataFrame:\n",
    "    \"\"\"\n",
    "    Función que actualiza el df_fixture_quarter con los resultados de\n",
    "    los partidos de octavos\n",
    "\n",
    "    inputs:\n",
    "    df_fixture_1 (DF) : DF con los partidos de octavos ya jugados\n",
    "    df_fixture_2 (DF) : DF con los partidos de cuartos sin jugar\n",
    "\n",
    "    return:\n",
    "    df_fixture_2 actualizado con los resultados de los partidos de octavos\n",
    "    \"\"\"\n",
    "    for index, row in df_fixture_1.iterrows():\n",
    "        winner = df_fixture_1.loc[index, \"winner\"]\n",
    "        match = df_fixture_1.loc[index, \"score\"]\n",
    "\n",
    "        df_fixture_2.replace({f\"Winner {match}\" : winner},\n",
    "                             inplace = True)\n",
    "        \n",
    "    df_fixture_2[\"winner\"] = \"?\"\n",
    "\n",
    "    return df_fixture_2"
   ]
  },
  {
   "cell_type": "code",
   "execution_count": null,
   "metadata": {},
   "outputs": [],
   "source": [
    "update_table(df_fixture_knockout, df_fixture_quarter) # Actualizamos el DF de los cuartos de final"
   ]
  },
  {
   "cell_type": "code",
   "execution_count": null,
   "metadata": {},
   "outputs": [],
   "source": [
    "get_winner(df_fixture_quarter) # Jugamos los partidos de los cuartos de final"
   ]
  },
  {
   "cell_type": "markdown",
   "metadata": {},
   "source": [
    "## Semifinal"
   ]
  },
  {
   "cell_type": "code",
   "execution_count": null,
   "metadata": {},
   "outputs": [],
   "source": [
    "update_table(df_fixture_quarter, df_fixture_semi) # Actualizamos el DF de la semifinal"
   ]
  },
  {
   "cell_type": "code",
   "execution_count": null,
   "metadata": {},
   "outputs": [],
   "source": [
    "get_winner(df_fixture_semi) # Jugamos los partidos de la semifinal"
   ]
  },
  {
   "cell_type": "markdown",
   "metadata": {},
   "source": [
    "## Final"
   ]
  },
  {
   "cell_type": "code",
   "execution_count": null,
   "metadata": {},
   "outputs": [],
   "source": [
    "update_table(df_fixture_semi, df_fixture_final) # Actualizamos el DF de la final"
   ]
  },
  {
   "cell_type": "code",
   "execution_count": null,
   "metadata": {},
   "outputs": [],
   "source": [
    "df_third_place = df_fixture_final[0].copy() # Obtenemos la estructura para el tercer puesto"
   ]
  },
  {
   "cell_type": "code",
   "execution_count": null,
   "metadata": {},
   "outputs": [],
   "source": [
    "# Filtro para encontrar a los perdedores de ambos partidos\n",
    "loser1 = df_fixture_semi[df_fixture_semi[\"home\"][0] or df_fixture_semi[\"away\"][0] != df_fixture_semi[\"winner\"][0]]\n",
    "loser2 = df_fixture_semi[df_fixture_semi[\"home\"][1] or df_fixture_semi[\"away\"][1] != df_fixture_semi[\"winner\"][1]]\n",
    "df_third_place[\"home\"] = loser1\n",
    "df_third_place[\"away\"] = loser2"
   ]
  },
  {
   "cell_type": "code",
   "execution_count": null,
   "metadata": {},
   "outputs": [],
   "source": [
    "get_winner(df_third_place) # Tercer puesto"
   ]
  },
  {
   "cell_type": "code",
   "execution_count": null,
   "metadata": {},
   "outputs": [],
   "source": [
    "get_winner(df_fixture_final) # Ganador del Mundial!!"
   ]
  }
 ],
 "metadata": {
  "kernelspec": {
   "display_name": "base",
   "language": "python",
   "name": "python3"
  },
  "language_info": {
   "codemirror_mode": {
    "name": "ipython",
    "version": 3
   },
   "file_extension": ".py",
   "mimetype": "text/x-python",
   "name": "python",
   "nbconvert_exporter": "python",
   "pygments_lexer": "ipython3",
   "version": "3.12.4"
  }
 },
 "nbformat": 4,
 "nbformat_minor": 2
}
